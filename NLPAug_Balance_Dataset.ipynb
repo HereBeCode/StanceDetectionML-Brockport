{
  "nbformat": 4,
  "nbformat_minor": 0,
  "metadata": {
    "colab": {
      "name": "NLPAug_Balance_Dataset.ipynb",
      "provenance": [],
      "collapsed_sections": [],
      "mount_file_id": "1C-tAWO2RNXsbxPlOyDtZQM1K_NKbQQ3N",
      "authorship_tag": "ABX9TyMzwvh841MByqS4Kdo2SUXd",
      "include_colab_link": true
    },
    "kernelspec": {
      "name": "python3",
      "display_name": "Python 3"
    },
    "language_info": {
      "name": "python"
    },
    "gpuClass": "standard",
    "accelerator": "GPU"
  },
  "cells": [
    {
      "cell_type": "markdown",
      "metadata": {
        "id": "view-in-github",
        "colab_type": "text"
      },
      "source": [
        "<a href=\"https://colab.research.google.com/github/HereBeCode/StanceDetectionML-Brockport/blob/main/NLPAug_Balance_Dataset.ipynb\" target=\"_parent\"><img src=\"https://colab.research.google.com/assets/colab-badge.svg\" alt=\"Open In Colab\"/></a>"
      ]
    },
    {
      "cell_type": "code",
      "source": [
        "!pip install transformers"
      ],
      "metadata": {
        "id": "D3VLwLGTRDrh"
      },
      "execution_count": null,
      "outputs": []
    },
    {
      "cell_type": "code",
      "source": [
        "!pip install nlpaug"
      ],
      "metadata": {
        "id": "_r9YmUjVQd5b"
      },
      "execution_count": null,
      "outputs": []
    },
    {
      "cell_type": "code",
      "execution_count": null,
      "metadata": {
        "id": "FOPsMTj7QSiY"
      },
      "outputs": [],
      "source": [
        "import pandas as pd\n",
        "import nlpaug.augmenter.word.context_word_embs as aug\n",
        "import re\n",
        "import numpy as np\n",
        "\n",
        "filename = \"./DataAbortion.csv\"\n",
        "df = pd.read_csv(filename, usecols=['commentTextDisplay','label'], encoding='utf-8')\n",
        "print(df)\n",
        "\n",
        "df = df[(df.label == 0) | (df.label == 1) | (df.label == 2)]\n",
        "df = df.astype({'label': int})\n",
        "print(df)\n",
        "\n",
        "def remove_html_and_other(text):\n",
        "    new_text = re.sub(r'<a href.*\\/a>', ' ', text)\n",
        "    new_text = (new_text.replace('<br /', ' ').\n",
        "                replace('<b>', ' ').\n",
        "                replace('</b>', ' ').\n",
        "                replace('&#39;', \"\\u0027\").\n",
        "                replace('<br >', ' ').\n",
        "                replace('&amp;', '&').\n",
        "                replace('<br>', ' ').\n",
        "                replace('\\u2026', ' ').\n",
        "                replace('&quot;', '\\u0022').\n",
        "                replace('1st', 'first ').\n",
        "                replace('2nd', 'second ').\n",
        "                replace('3rd', 'third ').\n",
        "                replace('100%', 'one hundred percent ')\n",
        "    )\n",
        "    return new_text\n",
        "\n",
        "def cleanTxt(text):\n",
        "    TEXT = text.lower()\n",
        "    TEXT = remove_html_and_other(TEXT)\n",
        "    return TEXT\n",
        "\n"
      ]
    },
    {
      "cell_type": "code",
      "source": [
        "df['commentTextDisplay'] = df['commentTextDisplay'].apply(cleanTxt)\n",
        "print(df)"
      ],
      "metadata": {
        "id": "w3Xi4vCDQnzW"
      },
      "execution_count": null,
      "outputs": []
    },
    {
      "cell_type": "code",
      "source": [
        "print(df['label'].value_counts())"
      ],
      "metadata": {
        "id": "SdCMLj5mQrL5"
      },
      "execution_count": null,
      "outputs": []
    },
    {
      "cell_type": "code",
      "source": [
        "augmenter = aug.ContextualWordEmbsAug(model_path='bert-base-uncased', action='insert', device='cuda')"
      ],
      "metadata": {
        "id": "PKjopGpoQur4"
      },
      "execution_count": null,
      "outputs": []
    },
    {
      "cell_type": "code",
      "source": [
        "from tqdm.auto import tqdm\n",
        "import numpy as np\n",
        "from sklearn.utils import shuffle\n",
        "\n",
        "def augmentMyData(df, augmenter, stance, repetitions=1, samples=1000):\n",
        "    augmented_texts = []\n",
        "    # select only the minority class samples\n",
        "    truncated_df = df[df['label'] == stance].reset_index(drop=True) # removes unecessary index column\n",
        "    for i in tqdm(np.random.randint(0, len(truncated_df), samples)):\n",
        "        # generating 'n_samples' augmented texts\n",
        "        for _ in range(repetitions):\n",
        "            augmented_text = augmenter.augment(truncated_df['commentTextDisplay'].iloc[i])\n",
        "            augmented_texts.append(augmented_text)\n",
        "    \n",
        "    data = {\n",
        "        'label': stance,\n",
        "        'commentTextDisplay': augmented_texts\n",
        "    }\n",
        "    aug_df = pd.DataFrame(data)\n",
        "    df = shuffle(df.append(aug_df).reset_index(drop=True))\n",
        "    return df"
      ],
      "metadata": {
        "id": "d4N6z8hIS0OG"
      },
      "execution_count": 7,
      "outputs": []
    },
    {
      "cell_type": "code",
      "source": [
        "num_positive = 0\n",
        "num_negative = 0\n",
        "num_neutral = 0\n",
        "for x in range(len(df)):\n",
        "  if (df['label'].iloc[x] == 0):\n",
        "    num_neutral += 1\n",
        "  elif (df['label'].iloc[x] == 1):\n",
        "    num_positive += 1\n",
        "  elif (df['label'].iloc[x] == 2):\n",
        "    num_negative += 1\n",
        "  else:\n",
        "    None\n",
        "print(\"Positive: \" + str(num_positive))\n",
        "print(\"Negative: \" + str(num_negative))\n",
        "print(\"Neutral: \" + str(num_neutral))"
      ],
      "metadata": {
        "id": "rFbLhHTYxGNU"
      },
      "execution_count": null,
      "outputs": []
    },
    {
      "cell_type": "code",
      "source": [
        "# Must pass stance into augmentMyData method\n",
        "# stance is one of [0, 1, 2] where 0 = neutral, 1 = positive, 2 = negative\n",
        "if (max(num_positive, num_negative, num_neutral) is num_positive):\n",
        "  diff_neg = num_positive - num_negative\n",
        "  diff_neu = num_positive - num_neutral\n",
        "  aug_df = augmentMyData(df, augmenter, stance=2, samples=diff_neg)\n",
        "  aug_df = augmentMyData(aug_df, augmenter, stance=0, samples=diff_neu)\n",
        "elif (max(num_positive, num_negative, num_neutral) is num_negative):\n",
        "  diff_pos = num_negative - num_positive\n",
        "  diff_neu = num_negative - num_neutral\n",
        "  aug_df = augmentMyData(df, augmenter, stance=1, samples=diff_pos)\n",
        "  aug_df = augmentMyData(aug_df, augmenter, stance=0, samples=diff_neu)\n",
        "elif (max(num_positive, num_negative, num_neutral) is num_neutral):\n",
        "  diff_pos = num_neutral - num_positive\n",
        "  diff_neg = num_neutral - num_negative\n",
        "  aug_df = augmentMyData(df, augmenter, stance=1, samples=diff_pos)\n",
        "  aug_df = augmentMyData(aug_df, augmenter, stance=2, samples=diff_neg)\n",
        "else:\n",
        "  None"
      ],
      "metadata": {
        "id": "rA1ii1R9UXzl"
      },
      "execution_count": null,
      "outputs": []
    },
    {
      "cell_type": "code",
      "source": [
        "print(aug_df['label'].value_counts())"
      ],
      "metadata": {
        "id": "DCt4l40tV5Ow"
      },
      "execution_count": null,
      "outputs": []
    },
    {
      "cell_type": "code",
      "source": [
        "print(aug_df)"
      ],
      "metadata": {
        "id": "u6y7Ypi1XVHM"
      },
      "execution_count": null,
      "outputs": []
    },
    {
      "cell_type": "code",
      "source": [
        "aug_df.to_excel('balanced_dataset.xlsx')"
      ],
      "metadata": {
        "id": "RjN-P8LZY1Qh"
      },
      "execution_count": 13,
      "outputs": []
    }
  ]
}
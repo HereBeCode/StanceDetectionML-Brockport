{
  "nbformat": 4,
  "nbformat_minor": 0,
  "metadata": {
    "colab": {
      "name": "MultiClass_YT_Comment_Sentiment_Classification_RNN.ipynb",
      "provenance": [],
      "authorship_tag": "ABX9TyNsYFCXNAhR4WeD1Z2pPZsT",
      "include_colab_link": true
    },
    "kernelspec": {
      "name": "python3",
      "display_name": "Python 3"
    },
    "language_info": {
      "name": "python"
    }
  },
  "cells": [
    {
      "cell_type": "markdown",
      "metadata": {
        "id": "view-in-github",
        "colab_type": "text"
      },
      "source": [
        "<a href=\"https://colab.research.google.com/github/HereBeCode/StanceDetectionML-Brockport/blob/main/MultiClass_YT_Comment_Sentiment_Classification_RNN.ipynb\" target=\"_parent\"><img src=\"https://colab.research.google.com/assets/colab-badge.svg\" alt=\"Open In Colab\"/></a>"
      ]
    },
    {
      "cell_type": "code",
      "execution_count": null,
      "metadata": {
        "id": "bhDJPzzqZK6w"
      },
      "outputs": [],
      "source": [
        "import matplotlib.pyplot as plt\n",
        "import glob\n",
        "import os\n",
        "import re\n",
        "import shutil\n",
        "import string\n",
        "import tensorflow as tf\n",
        "\n",
        "from tensorflow.keras import layers\n",
        "from tensorflow.keras import losses"
      ]
    },
    {
      "cell_type": "code",
      "source": [
        "print(tf.__version__)"
      ],
      "metadata": {
        "colab": {
          "base_uri": "https://localhost:8080/"
        },
        "id": "8Gfn63QfZPf0",
        "outputId": "4d90a377-c451-457c-a028-f58e3d3816c5"
      },
      "execution_count": null,
      "outputs": [
        {
          "output_type": "stream",
          "name": "stdout",
          "text": [
            "2.8.2\n"
          ]
        }
      ]
    },
    {
      "cell_type": "markdown",
      "source": [
        "# Import Dataset\n",
        "We can use the text_dataset_from_directory utility which expects a specific directory structure. Import your dataset as a zipped folder with the following structure:\n",
        "\n",
        "\n",
        "    main_directory/\n",
        "      ...class_a/\n",
        "        ...a_text_1.txt\n",
        "        ...a_text_2.txt\n",
        "      ...class_b/\n",
        "        ...b_text_1.txt\n",
        "        ...b_text_2.txt\n",
        "\n",
        "\n",
        "The zipped folder can be unzipped as follows:\n",
        "\n"
      ],
      "metadata": {
        "id": "jiIqoNT5ZSEo"
      }
    },
    {
      "cell_type": "code",
      "source": [
        "!unzip \"/content/AbortionData.zip\" -d \"/content\""
      ],
      "metadata": {
        "id": "c-JWLbWJZVo5"
      },
      "execution_count": null,
      "outputs": []
    },
    {
      "cell_type": "markdown",
      "source": [
        "Next, you will use the text_dataset_from_directory utility to create a labeled tf.data.Dataset. tf.data is a powerful collection of tools for working with data.\n",
        "\n",
        "When running a machine learning experiment, it is a best practice to divide your dataset into three splits: train, validation, and test.\n",
        "\n",
        "The IMDB dataset has already been divided into train and test, but it lacks a validation set. Let's create a validation set using an 80:20 split of the training data by using the validation_split argument below.\n"
      ],
      "metadata": {
        "id": "deTIBIE49Adl"
      }
    },
    {
      "cell_type": "code",
      "source": [
        "batch_size = 32\n",
        "seed = 42\n",
        "\n",
        "raw_train_ds = tf.keras.utils.text_dataset_from_directory(\n",
        "    '/content/AbortionData/train',\n",
        "    batch_size=batch_size,\n",
        "    validation_split=0.2,\n",
        "    subset='training',\n",
        "    seed=seed\n",
        ")"
      ],
      "metadata": {
        "colab": {
          "base_uri": "https://localhost:8080/"
        },
        "id": "pMHTxVqbZZEQ",
        "outputId": "5bef5706-7e81-41bc-9f35-64aa4e404a3d"
      },
      "execution_count": null,
      "outputs": [
        {
          "output_type": "stream",
          "name": "stdout",
          "text": [
            "Found 1921 files belonging to 3 classes.\n",
            "Using 1537 files for training.\n"
          ]
        }
      ]
    },
    {
      "cell_type": "markdown",
      "source": [
        "\n",
        "As you can see above, of the samples available in the training folder, you will use 80% for training. As you will see in a moment, you can train a model by passing a dataset directly to model.fit. If you're new to tf.data, you can also iterate over the dataset and print out a few examples as follows.\n"
      ],
      "metadata": {
        "id": "uMS8MRIm9NEp"
      }
    },
    {
      "cell_type": "code",
      "source": [
        "for text_batch, label_batch in raw_train_ds.take(1):\n",
        "  for i in range(3):\n",
        "    print(\"Comment\", text_batch.numpy()[i])\n",
        "    print(\"Label\", label_batch.numpy()[i])"
      ],
      "metadata": {
        "colab": {
          "base_uri": "https://localhost:8080/"
        },
        "id": "2kwHUG9VZbgF",
        "outputId": "25bfdff3-6124-4487-eac8-0e656fcc9642"
      },
      "execution_count": null,
      "outputs": [
        {
          "output_type": "stream",
          "name": "stdout",
          "text": [
            "Comment b'i dont understand how people can justify using their personal beliefs to take away the rights of others  i think the exact same thats why they are your own personal beliefs they are just meant for you  not for you to push on other people'\n",
            "Label 2\n",
            "Comment b'abortion is obviously  murder pray roe is overturned  '\n",
            "Label 0\n",
            "Comment b'why are we trying to control women its her body its her choice like abby had a choice to eat a couple of cheeseburgers or a small salad its obvious what she chose but im not going  stop her cause its none of my business '\n",
            "Label 2\n"
          ]
        }
      ]
    },
    {
      "cell_type": "markdown",
      "source": [
        "Notice the reviews contain raw text (with punctuation and occasional HTML tags like <br/>). You will show how to handle these in the following section.\n",
        "\n",
        "The labels are 0 or 1. To see which of these correspond to positive and negative movie reviews, you can check the class_names property on the dataset.\n"
      ],
      "metadata": {
        "id": "oZn3i6uL9lHP"
      }
    },
    {
      "cell_type": "code",
      "source": [
        "print(\"Label 0 corresponds to: \", raw_train_ds.class_names[0])\n",
        "print(\"Label 1 corresponds to: \", raw_train_ds.class_names[1])"
      ],
      "metadata": {
        "colab": {
          "base_uri": "https://localhost:8080/"
        },
        "id": "TqsUPTdlZeaM",
        "outputId": "3b04f9cf-27b1-4012-eeda-5debde2a0c51"
      },
      "execution_count": null,
      "outputs": [
        {
          "output_type": "stream",
          "name": "stdout",
          "text": [
            "Label 0 corresponds to:  neg\n",
            "Label 1 corresponds to:  neu\n"
          ]
        }
      ]
    },
    {
      "cell_type": "markdown",
      "source": [
        "Next, you will create a validation and test dataset. You will use the remaining 5,000 reviews from the training set for validation."
      ],
      "metadata": {
        "id": "NGRdyOGi9sLz"
      }
    },
    {
      "cell_type": "markdown",
      "source": [
        "Note: When using the validation_split and subset arguments, make sure to either specify a random seed, or to pass shuffle=False, so that the validation and training splits have no overlap."
      ],
      "metadata": {
        "id": "sIVnfbF09wCb"
      }
    },
    {
      "cell_type": "code",
      "source": [
        "raw_val_ds = tf.keras.utils.text_dataset_from_directory(\n",
        "    '/content/AbortionData/train',\n",
        "    validation_split=0.2,\n",
        "    subset='validation',\n",
        "    seed=seed\n",
        ")"
      ],
      "metadata": {
        "colab": {
          "base_uri": "https://localhost:8080/"
        },
        "id": "P20Rc_5IZf7B",
        "outputId": "09606099-70a3-4d1b-8976-462ddd5ee137"
      },
      "execution_count": null,
      "outputs": [
        {
          "output_type": "stream",
          "name": "stdout",
          "text": [
            "Found 1921 files belonging to 3 classes.\n",
            "Using 384 files for validation.\n"
          ]
        }
      ]
    },
    {
      "cell_type": "code",
      "source": [
        "raw_test_ds = tf.keras.utils.text_dataset_from_directory(\n",
        "    '/content/AbortionData/test',\n",
        "    batch_size=batch_size\n",
        ")"
      ],
      "metadata": {
        "colab": {
          "base_uri": "https://localhost:8080/"
        },
        "id": "LCMmODjYZhhH",
        "outputId": "fcac5c00-4544-41b0-ca59-0fc71fcdd6df"
      },
      "execution_count": null,
      "outputs": [
        {
          "output_type": "stream",
          "name": "stdout",
          "text": [
            "Found 481 files belonging to 3 classes.\n"
          ]
        }
      ]
    },
    {
      "cell_type": "markdown",
      "source": [
        "# Prepare the dataset for training\n",
        "Next, you will standardize, tokenize, and vectorize the data using the helpful tf.keras.layers.TextVectorization layer.\n",
        "\n",
        "Standardization refers to preprocessing the text, typically to remove punctuation or HTML elements to simplify the dataset. Tokenization refers to splitting strings into tokens (for example, splitting a sentence into individual words, by splitting on whitespace). Vectorization refers to converting tokens into numbers so they can be fed into a neural network. All of these tasks can be accomplished with this layer.\n",
        "\n",
        "As you saw above, the reviews contain various HTML tags like <br />. These tags will not be removed by the default standardizer in the TextVectorization layer (which converts text to lowercase and strips punctuation by default, but doesn't strip HTML). You will write a custom standardization function to remove the HTML."
      ],
      "metadata": {
        "id": "V84PnD3a92Yn"
      }
    },
    {
      "cell_type": "markdown",
      "source": [
        "Note: To prevent training-testing skew (also known as training-serving skew), it is important to preprocess the data identically at train and test time. To facilitate this, the TextVectorization layer can be included directly inside your model, as shown later in this tutorial."
      ],
      "metadata": {
        "id": "3n3c0HCR-D-u"
      }
    },
    {
      "cell_type": "code",
      "source": [
        "def custom_standardization(input_data):\n",
        "  lowercase = tf.strings.lower(input_data)\n",
        "  stripped_html = tf.strings.regex_replace(lowercase, '<br /', ' ')\n",
        "  return tf.strings.regex_replace(stripped_html, '[%s]' % re.escape(string.punctuation), '')"
      ],
      "metadata": {
        "id": "9ipJoDtpZj0f"
      },
      "execution_count": null,
      "outputs": []
    },
    {
      "cell_type": "markdown",
      "source": [
        "Next, you will create a TextVectorization layer. You will use this layer to standardize, tokenize, and vectorize our data. You set the output_mode to int to create unique integer indices for each token.\n",
        "\n",
        "Note that you're using the default split function, and the custom standardization function you defined above. You'll also define some constants for the model, like an explicit maximum sequence_length, which will cause the layer to pad or truncate sequences to exactly sequence_length values.\n"
      ],
      "metadata": {
        "id": "dSYIGLOT-G79"
      }
    },
    {
      "cell_type": "code",
      "source": [
        "max_features = 10000\n",
        "sequence_length = 250\n",
        "\n",
        "vectorize_layer = layers.TextVectorization(\n",
        "    standardize=custom_standardization,\n",
        "    max_tokens=max_features,\n",
        "    output_mode='int',\n",
        "    output_sequence_length=sequence_length\n",
        ")"
      ],
      "metadata": {
        "id": "uLKY_gE6ZmBb"
      },
      "execution_count": null,
      "outputs": []
    },
    {
      "cell_type": "markdown",
      "source": [
        "Next, you will call adapt to fit the state of the preprocessing layer to the dataset. This will cause the model to build an index of strings to integers.\n",
        "\n",
        "Note: It's important to only use your training data when calling adapt (using the test set would leak information).\n"
      ],
      "metadata": {
        "id": "lVMN_NFd-JcD"
      }
    },
    {
      "cell_type": "code",
      "source": [
        "#Make a text-only dataset (without labels), then call adapt\n",
        "train_text = raw_train_ds.map(lambda x, y: x)\n",
        "vectorize_layer.adapt(train_text)"
      ],
      "metadata": {
        "id": "ispsAp-3Znmu"
      },
      "execution_count": null,
      "outputs": []
    },
    {
      "cell_type": "markdown",
      "source": [
        "Let's create a function to see the result of using this layer to preprocess some data."
      ],
      "metadata": {
        "id": "ycZcduMg-Ngq"
      }
    },
    {
      "cell_type": "code",
      "source": [
        "def vectorize_text(text, label):\n",
        "  text = tf.expand_dims(text, -1)\n",
        "  return vectorize_layer(text), label"
      ],
      "metadata": {
        "id": "6qLPm3pkZpVc"
      },
      "execution_count": null,
      "outputs": []
    },
    {
      "cell_type": "code",
      "source": [
        "text_batch, label_batch = next(iter(raw_train_ds))\n",
        "first_review, first_label = text_batch[0], label_batch[0]\n",
        "print(\"Review\", first_review)\n",
        "print(\"Label\", raw_train_ds.class_names[first_label])\n",
        "print(\"Vectorized review\", vectorize_text(first_review, first_label))"
      ],
      "metadata": {
        "colab": {
          "base_uri": "https://localhost:8080/"
        },
        "id": "0DvcBSJcZrA5",
        "outputId": "940062a3-1321-47d4-ab10-fba8b83ea356"
      },
      "execution_count": null,
      "outputs": [
        {
          "output_type": "stream",
          "name": "stdout",
          "text": [
            "Review tf.Tensor(b'human zigot human fetus human unborn baby human born baby human infant human child human teen human adult its all the same human', shape=(), dtype=string)\n",
            "Label neg\n",
            "Vectorized review (<tf.Tensor: shape=(1, 250), dtype=int64, numpy=\n",
            "array([[  65, 2611,   65,  127,   65,  125,   30,   65,  111,   30,   65,\n",
            "        1180,   65,   36,   65, 1110,   65,  855,   24,   44,    2,  174,\n",
            "          65,    0,    0,    0,    0,    0,    0,    0,    0,    0,    0,\n",
            "           0,    0,    0,    0,    0,    0,    0,    0,    0,    0,    0,\n",
            "           0,    0,    0,    0,    0,    0,    0,    0,    0,    0,    0,\n",
            "           0,    0,    0,    0,    0,    0,    0,    0,    0,    0,    0,\n",
            "           0,    0,    0,    0,    0,    0,    0,    0,    0,    0,    0,\n",
            "           0,    0,    0,    0,    0,    0,    0,    0,    0,    0,    0,\n",
            "           0,    0,    0,    0,    0,    0,    0,    0,    0,    0,    0,\n",
            "           0,    0,    0,    0,    0,    0,    0,    0,    0,    0,    0,\n",
            "           0,    0,    0,    0,    0,    0,    0,    0,    0,    0,    0,\n",
            "           0,    0,    0,    0,    0,    0,    0,    0,    0,    0,    0,\n",
            "           0,    0,    0,    0,    0,    0,    0,    0,    0,    0,    0,\n",
            "           0,    0,    0,    0,    0,    0,    0,    0,    0,    0,    0,\n",
            "           0,    0,    0,    0,    0,    0,    0,    0,    0,    0,    0,\n",
            "           0,    0,    0,    0,    0,    0,    0,    0,    0,    0,    0,\n",
            "           0,    0,    0,    0,    0,    0,    0,    0,    0,    0,    0,\n",
            "           0,    0,    0,    0,    0,    0,    0,    0,    0,    0,    0,\n",
            "           0,    0,    0,    0,    0,    0,    0,    0,    0,    0,    0,\n",
            "           0,    0,    0,    0,    0,    0,    0,    0,    0,    0,    0,\n",
            "           0,    0,    0,    0,    0,    0,    0,    0,    0,    0,    0,\n",
            "           0,    0,    0,    0,    0,    0,    0,    0,    0,    0,    0,\n",
            "           0,    0,    0,    0,    0,    0,    0,    0]])>, <tf.Tensor: shape=(), dtype=int32, numpy=0>)\n"
          ]
        }
      ]
    },
    {
      "cell_type": "markdown",
      "source": [
        "As you can see above, each token has been replaced by an integer. You can lookup the token (string) that each integer corresponds to by calling .get_vocabulary() on the layer."
      ],
      "metadata": {
        "id": "OlgsRL_W-Tgq"
      }
    },
    {
      "cell_type": "code",
      "source": [
        "print(\"1287 ---> \",vectorize_layer.get_vocabulary()[1238])\n",
        "print(\" 313 ---> \",vectorize_layer.get_vocabulary()[313])\n",
        "print(\"Vocabulary size: {}\".format(len(vectorize_layer.get_vocabulary())))"
      ],
      "metadata": {
        "colab": {
          "base_uri": "https://localhost:8080/"
        },
        "id": "dKGnYeTgZtjd",
        "outputId": "8703ee71-f99c-4e65-97b0-2d39d7c6b8b6"
      },
      "execution_count": null,
      "outputs": [
        {
          "output_type": "stream",
          "name": "stdout",
          "text": [
            "1287 --->  begin\n",
            " 313 --->  shes\n",
            "Vocabulary size: 5288\n"
          ]
        }
      ]
    },
    {
      "cell_type": "markdown",
      "source": [
        "You are nearly ready to train your model. As a final preprocessing step, you will apply the TextVectorization layer you created earlier to the train, validation, and test dataset."
      ],
      "metadata": {
        "id": "6qRQZ5fd-YM3"
      }
    },
    {
      "cell_type": "code",
      "source": [
        "print(vectorize_layer.get_vocabulary())"
      ],
      "metadata": {
        "colab": {
          "base_uri": "https://localhost:8080/"
        },
        "id": "2IXK0ogKEFvs",
        "outputId": "b5aa6ddf-e5c5-47e7-f532-36ab14de77d2"
      },
      "execution_count": null,
      "outputs": [
        {
          "output_type": "stream",
          "name": "stdout",
          "text": [
            "['', '[UNK]', 'the', 'to', 'a', 'and', 'is', 'of', 'you', 'that', 'i', 'it', 'have', 'for', 'are', 'abortion', 'not', 'they', 'in', 'be', 'life', 'if', 'but', 'people', 'its', 'dont', 'or', 'this', 'with', 'their', 'baby', 'your', 'an', 'what', 'choice', 'so', 'child', 'who', 'do', 'should', 'as', 'women', 'pro', 'on', 'all', 'no', 'just', 'want', 'about', 'my', 'right', 'we', 'can', 'because', 'will', 'she', 'her', 'at', 'these', 'like', 'think', 'how', 'them', 'woman', 'there', 'human', 'was', 'when', 'get', 'one', 'body', 'has', 'babies', 'would', 'abortions', 'murder', 'up', 'im', 'being', 'from', 'then', 'god', 'why', 'children', 'out', 'more', 'only', 'cant', 'care', 'own', 'me', 'know', 'even', 'by', 'sex', 'make', 'prolife', 'many', 'pregnant', 'mother', 'say', 'killing', 'support', 'had', 'birth', 'those', 'take', 'need', 'were', 'other', 'believe', 'born', 'any', 'doesnt', 'wrong', 'having', 'also', 'than', 'someone', 'prochoice', 'live', 'am', 'stop', 'our', 'way', 'unborn', 'never', 'fetus', 'after', 'give', 'still', 'rights', 'most', 'person', 'control', 'thats', 'some', 'world', 'go', 'choose', 'understand', 'kill', 'every', 'thing', 'time', 'into', 'does', 'could', 'very', 'see', 'now', 'youre', 'really', 'lives', 'kids', 'always', 'pregnancy', 'before', 'amp', 'us', 'going', 'feel', 'rape', 'keep', 'end', 'another', 'good', 'use', 'over', 'been', 'which', 'well', 'much', 'everyone', 'same', 'matter', 'living', 'young', 'without', 'men', 'innocent', 'he', 'against', 'away', 'womans', 'love', 'isnt', 'help', 'made', 'point', 'man', 'anyone', 'yes', 'both', 'wants', 'until', 'such', 'yet', 'where', 'through', 'reason', 'getting', 'first', 'evil', 'cells', 'adoption', 'abort', 'said', 'old', 'needs', 'let', 'doing', 'unwanted', 'religious', 'anti', 'years', 'others', 'mothers', 'day', 'argument', 'tell', 'side', 'shouldnt', 'saying', 'look', 'die', 'decision', 'actually', 'able', 'womb', 'something', 'agree', 'womens', 'theyre', 'trying', 'themselves', 'parents', 'nothing', 'making', 'illegal', 'health', 'country', 'conception', 'wouldnt', 'too', 'pay', 'may', 'girl', 'come', 'alive', 'sad', 'responsibility', 'raped', 'place', 'inside', 'else', 'better', 'thank', 'system', 'put', 'issue', 'here', 'forced', 'enough', 'death', 'change', 'bodies', 'weeks', 'simple', 'legal', 'either', 'down', 'did', 'cannot', 'become', 'antiabortion', 'theres', 'term', 'ok', 'left', 'law', 'jesus', 'got', 'back', 'u', 'sense', 'problem', 'murdering', 'might', 'free', 'arent', 'america', 'taking', 'save', 'his', 'heart', 'father', 'didnt', 'choices', 'business', 'stupid', 'stand', 'safe', 'opinion', 'once', 'mean', 'makes', 'instead', 'ever', 'disgusting', 'beliefs', 'around', 'whether', 'shes', 'ones', 'medical', 'kid', 'ive', 'fact', 'decide', 'chance', 'year', 'truth', 'things', 'selfish', 'mind', 'lady', 'government', 'consequences', 'bad', 'already', 'work', 'wont', 'value', 'lot', 'long', 'force', 'answer', 'yourself', 'while', 'using', 'two', 'question', 'protection', 'off', 'killed', 'hard', 'happens', 'everything', 'done', 'sorry', 'society', 'rather', 'raise', 'proabortion', 'must', 'different', 'completely', 'call', 'whole', 'sick', 'real', 'prolifers', 'period', 'money', 'little', 'less', 'hell', 'foster', 'created', 'cause', 'bless', 'state', 'science', 'hate', 'giving', 'decisions', 'best', 'whatever', 'seen', 'ready', 'personal', 'option', 'lets', 'humans', 'great', 'girls', 'gets', 'easy', 'called', 'aborted', 'talk', 'responsible', 'poor', 'moral', 'late', 'justify', 'comes', 'clump', 'anything', 'allowed', 'unless', 'though', 'students', 'simply', 'please', 'literally', 'idea', 'full', 'find', 'christian', 'used', 'roe', 'respect', 'religion', 'parent', 'outside', 'mom', 'mental', 'maybe', 'logic', 'leave', 'imagine', 'hope', 'him', 'freedom', 'fine', 'far', 'couldnt', 'circumstances', 'begins', 'alone', 'try', 'survive', 'start', 'potential', 'least', 'ill', 'especially', 'each', 'chose', 'brain', 'beautiful', 'basic', 'age', 'absolutely', 'words', 'wish', 'wade', 'times', 'talking', 'situation', 'since', 'regardless', 'peoples', 'pain', 'murderers', 'movement', 'marriage', 'lost', 'legs', 'however', 'healthcare', 'goes', 'fucking', 'forcing', 'few', 'family', 'discussion', 'debate', 'babys', 'worth', 'wanted', 'truly', 'sure', 'suffering', 'stay', 'sides', 'says', 'part', 'parenthood', 'murdered', 'means', 'laws', 'idiots', 'grow', 'gods', 'future', 'fight', 'eyes', 'etc', 'embryo', 'crime', 'christ', 'big', 'between', 'arguments', 'almost', 'adopt', 'actions', 'abuse', 'sometimes', 'seem', 'second', 'reasons', 'procedure', 'planned', 'open', 'okay', 'nobody', 'lol', 'lifers', 'last', 'issues', 'honestly', 'growing', 'dead', 'coming', 'carrying', 'beings', 'basically', 'again', 'afford', 'act', 'accept', 'yall', 'willing', 'white', 'unprotected', 'terrible', 'speak', 'soul', 'school', 'prevent', 'oh', 'necessary', 'myself', 'middle', 'lord', 'longer', 'knew', 'individual', 'ignorant', 'happy', 'given', 'fetuses', 'earth', 'due', 'doctors', 'deal', 'days', 'course', 'conversation', 'common', 'certain', 'cases', 'carry', 'american', 'wow', 'word', 'wasnt', 'v', 'ur', 'turn', 'true', 'thought', 'taken', 'self', 'risk', 'questions', 'protect', 'process', 'physical', 'personally', 'months', 'later', 'judge', 'irresponsible', 'incest', 'id', 'happen', 'guys', 'generation', 'found', 'face', 'exist', 'dying', 'during', 'deserve', 'defend', 'continue', 'considered', 'bring', 'ask', 'advocates', 'adopted', 'wonder', 'whats', 'welfare', 'wanna', 'topic', 'today', 'tax', 'soon', 'shame', 'sexual', 'rid', 'pregnancies', 'precious', 'pray', 'power', 'poverty', 'plan', 'pill', 'none', 'new', 'mentally', 'line', 'killers', 'heartbeat', 'hear', 'guy', 'gonna', 'fathers', 'developed', 'college', 'belief', 'argue', 'allow', 'acceptable', 'wonderful', 'wait', 'victims', 'under', 'totally', 'therefore', 'sustain', 'student', 'show', 'saved', 'satan', 'ppl', 'nor', 'next', 'month', 'knows', 'knowing', 'job', 'itself', 'horrible', 'hold', 'healthy', 'hawkins', 'gave', 'fully', 'financially', 'excuse', 'elses', 'early', 'difficult', 'deny', 'childs', 'black', 'bible', 'b', 'amazing', 'yours', 'whom', 'vs', 'voice', 'towards', 'thousands', 'thinking', 'taught', 'standing', 'speaking', 'single', 'seriously', 'sacrifice', 'realize', 'reality', 'push', 'pure', 'prove', 'proud', 'pressured', 'position', 'political', 'opinions', 'neither', 'natural', 'name', 'moment', 'likely', 'lie', 'kristan', 'kind', 'important', 'immoral', 'home', 'herself', 'guess', 'grown', 'gives', 'fault', 'facts', 'extremely', 'experience', 'doctor', 'dies', 'died', 'cut', 'contraception', 'constitution', 'consider', 'consent', 'comment', 'case', 'blood', 'based', 'available', 'autonomy', 'amen', 'ago', 'advocate', 'ability', 'worse', 'ways', 'watch', 'vote', 'view', 'video', 'uterus', 'upon', 'theyve', 'theyll', 'telling', 'teach', 'supports', 'supporting', 'suffer', 'small', 'shit', 'result', 'relationship', 'raised', 'pushing', 'purpose', 'protesting', 'problems', 'probirth', 'possible', 'population', 'planet', 'plain', 'options', 'normal', 'murderer', 'moms', 'minds', 'million', 'male', 'majority', 'limb', 'liberal', 'ladies', 'including', 'ignorance', 'humanity', 'house', 'hand', 'funny', 'financial', 'fighting', 'explain', 'example', 'exactly', 'education', 'disagree', 'difference', 'deserves', 'danger', 'convenience', 'condoms', 'commit', 'clear', 'cell', 'brainwashed', 'arguing', 'apart', 'anyway', 'antichoice', 'abused', 'yeah', 'within', 'werent', 'wanting', 'views', 'victim', 'values', 'unable', 'thinks', 'stops', 'states', 'starts', 'sin', 'saving', 's', 'risks', 'repent', 'rare', 'provide', 'probably', 'practice', 'physically', 'often', 'offer', 'obviously', 'number', 'morally', 'millions', 'mandatory', 'logical', 'lack', 'interesting', 'individuals', 'inconvenience', 'holy', 'high', 'groups', 'group', 'glad', 'food', 'focus', 'finally', 'felt', 'fear', 'failed', 'f', 'entire', 'ends', 'ending', 'democrats', 'dangerous', 'damn', 'clearly', 'church', 'choicers', 'changed', 'caring', 'calling', 'brave', 'believes', 'becomes', 'ban', 'adult', 'actual', 'abstinence', 'zero', 'walk', 'ultimately', 'type', 'told', 'street', 'stage', 'spread', 'sperm', 'social', 'smh', 'shows', 'short', 'rest', 'reproductive', 'remove', 'regret', 'proven', 'promote', 'pretty', 'praying', 'prayers', 'praise', 'possibly', 'paying', 'past', 'painful', 'n', 'monsters', 'mistake', 'mercy', 'meet', 'lies', 'liberals', 'leftist', 'learn', 'language', 'insane', 'images', 'hypocrisy', 'hey', 'hes', 'hero', 'heres', 'heaven', 'heard', 'head', 'hands', 'ground', 'gain', 'formed', 'families', 'fair', 'expect', 'exception', 'everywhere', 'empathy', 'educated', 'ect', 'eat', 'dictate', 'defending', 'decided', 'damage', 'crowd', 'creation', 'court', 'convenient', 'contraceptive', 'consequence', 'consensual', 'consciousness', 'compassion', 'comments', 'coat', 'clinic', 'claim', 'christians', 'breath', 'behind', 'bc', 'anymore', 'along', 'allowing', 'agenda', 'affect', 'access', 'abortionists', 'aborting', 'zygote', 'wouldve', 'worry', 'works', 'wide', 'wicked', 'went', 'war', 'vulnerable', 'unsafe', 'unplanned', 'trash', 'throw', 'thier', 'thanks', 'suicide', 'strong', 'story', 'stomach', 'stance', 'special', 'speaker', 'sleep', 'slaughter', 'sit', 'shut', 'shot', 'set', 'serious', 'seeing', 'scream', 'scientific', 'scary', 'sadly', 'sacred', 'resources', 'read', 'raising', 'protest', 'property', 'procreating', 'precautions', 'points', 'places', 'pick', 'persons', 'pathetic', 'parts', 'otherwise', 'orphanages', 'oppose', 'opportunity', 'obvious', 'needed', 'motherhood', 'morality', 'mine', 'messed', 'mass', 'lived', 'level', 'leftists', 'lead', 'killer', 'keeping', 'involved', 'intercourse', 'intentionally', 'innocence', 'infanticide', 'incredibly', 'hurt', 'huge', 'hopefully', 'homes', 'history', 'helps', 'helped', 'held', 'harm', 'happened', 'half', 'gun', 'guilt', 'genocide', 'fucked', 'fuck', 'friends', 'form', 'forget', 'forever', 'follow', 'favor', 'exists', 'except', 'egg', 'educate', 'edit', 'dumb', 'drug', 'dollars', 'development', 'depends', 'demonic', 'demand', 'debating', 'cry', 'cruel', 'crazy', 'couple', 'conservatives', 'conscience', 'condom', 'concern', 'conceive', 'closed', 'clinics', 'catholic', 'buy', 'burden', 'bunch', 'brought', 'breathing', 'bodys', 'blessing', 'biology', 'bill', 'beyond', 'behavior', 'beginning', 'became', 'asked', 'appreciate', 'animals', 'angry', 'andor', 'americans', 'affects', 'advocating', 'activists', 'actively', 'accessible', 'wtf', 'worst', 'working', 'woke', 'win', 'week', 'watched', 'voiceless', 'viable', 'valuable', 'valid', 'unlike', 'turned', 'treatment', 'traumatic', 'torn', 'tired', 'theirs', 'thankful', 'th', 'terminate', 'teen', 'technically', 'talked', 'takes', 'supposed', 'subject', 'stupidity', 'stress', 'streets', 'stages', 'spouse', 'spirit', 'son', 'slavery', 'slave', 'showing', 'seems', 'screaming', 'schools', 'run', 'ruin', 'room', 'ridiculous', 'republicans', 'remember', 'remain', 'receive', 'r', 'quite', 'public', 'providing', 'protected', 'proper', 'proof', 'promiscuous', 'prodeath', 'politicians', 'plans', 'pieces', 'perfect', 'passed', 'overpopulated', 'organs', 'order', 'non', 'night', 'nice', 'neglect', 'mouth', 'morals', 'miscarriage', 'message', 'media', 'meant', 'meaning', 'mature', 'mans', 'mad', 'loving', 'lose', 'lmao', 'listen', 'limit', 'limbs', 'letting', 'kinda', 'kills', 'justified', 'jobs', 'jail', 'infant', 'image', 'hypocritical', 'horrendous', 'holding', 'heshe', 'helping', 'havent', 'hasnt', 'happening', 'greater', 'gone', 'genuinely', 'friend', 'frank', 'forgive', 'feelings', 'feeling', 'federal', 'faith', 'extreme', 'exceptions', 'everyday', 'everybody', 'entitled', 'ended', 'emotionally', 'eating', 'easily', 'e', 'donate', 'domestic', 'destroying', 'destroyed', 'desperate', 'definitely', 'deep', 'dark', 'daily', 'dad', 'cuz', 'criminals', 'create', 'countries', 'conservative', 'concerns', 'conceived', 'compromise', 'committing', 'citizen', 'celebrate', 'capable', 'came', 'bringing', 'boy', 'bottom', 'bodily', 'blame', 'begin', 'bee', 'bear', 'aware', 'asking', 'alternative', 'ages', 'add', 'activity', 'accountable', 'abstain', 'absolute', 'yrs', 'youve', 'yourselves', 'youll', 'ya', 'wishes', 'whose', 'whos', 'watching', 'walked', 'wake', 'waiting', 'violence', 'vegan', 'vaccine', 'utterly', 'usa', 'united', 'unethical', 'uneducated', 'trust', 'trimester', 'treated', 'trauma', 'took', 'todays', 'till', 'thrown', 'three', 'thoughts', 'thee', 'texas', 'terminations', 'tears', 'teaching', 'talks', 't', 'survival', 'surely', 'supreme', 'suppose', 'stopping', 'statement', 'spiritual', 'space', 'souls', 'sort', 'somebody', 'solved', 'solve', 'solution', 'societies', 'smile', 'situations', 'sins', 'shirt', 'sheep', 'shall', 'several', 'services', 'separation', 'scientifically', 'satanic', 'sake', 'safety', 'sa', 'rude', 'righteous', 'return', 'required', 'require', 'regarding', 'rd', 'rates', 'rate', 'random', 'punishable', 'providers', 'protecting', 'product', 'prochoicer', 'procedures', 'prepared', 'preaching', 'powerful', 'plenty', 'play', 'picture', 'performed', 'perform', 'passionate', 'party', 'partner', 'pants', 'overturned', 'overturn', 'organization', 'nuts', 'nonsense', 'news', 'newborns', 'newborn', 'nations', 'nah', 'multiple', 'minimum', 'minded', 'mess', 'mentality', 'matters', 'matt', 'massive', 'march', 'major', 'magically', 'lower', 'loves', 'loved', 'loud', 'list', 'liberty', 'legally', 'leaving', 'leads', 'leading', 'leaders', 'labour', 'kept', 'judged', 'jeremiah', 'ireland', 'instinct', 'increase', 'ignore', 'hypocrites', 'huh', 'housing', 'horrifying', 'honest', 'holocaust', 'himself', 'hating', 'handle', 'grateful', 'governments', 'gift', 'forms', 'folks', 'fit', 'feminist', 'female', 'feed', 'fast', 'fan', 'fail', 'exact', 'everyones', 'ethical', 'equal', 'enter', 'english', 'effective', 'effect', 'educating', 'double', 'dog', 'dna', 'develops', 'developing', 'destruction', 'destroy', 'despite', 'definition', 'deciding', 'decent', 'daughter', 'current', 'culture', 'cross', 'crimes', 'credit', 'creator', 'crap', 'courage', 'correctly', 'correct', 'cool', 'controlling', 'conscious', 'concept', 'complain', 'community', 'collection', 'class', 'citizens', 'circumstance', 'chosen', 'choicer', 'changes', 'certainly', 'carried', 'cared', 'car', 'cancer', 'bullshit', 'bs', 'break', 'blessings', 'blamed', 'benefit', 'belong', 'beating', 'barbaric', 'awful', 'awesome', 'attention', 'attempt', 'atheist', 'aspect', 'ashamed', 'apparently', 'appalling', 'anyways', 'antilife', 'answers', 'animal', 'although', 'allows', 'alley', 'afraid', 'admit', 'acts', 'action', 'accountability', 'according', 'abusive', 'abortionist', 'abby', 'younger', 'youd', 'yelling', 'y', 'worship', 'worked', 'willingly', 'wild', 'whenever', 'wedlock', 'waste', 'w', 'violated', 'vile', 'videos', 'vasectomies', 'various', 'vaccines', 'utter', 'utero', 'universe', 'universal', 'unfortunately', 'unexpected', 'understands', 'ugly', 'types', 'turns', 'tube', 'tubal', 'treating', 'together', 'title', 'throwing', 'throats', 'threat', 'thankfully', 'tf', 'terrifying', 'teens', 'teenager', 'teenage', 'syndrome', 'sustaining', 'surprised', 'supporters', 'super', 'suffered', 'suddenly', 'sucks', 'struggles', 'straight', 'stories', 'sticking', 'stepping', 'statistics', 'starting', 'stake', 'st', 'spend', 'sorts', 'sooo', 'soo', 'someones', 'smart', 'sleeping', 'slaves', 'sister', 'sign', 'shitty', 'shed', 'sexually', 'severely', 'severe', 'separate', 'sentient', 'seek', 'seconds', 'scripture', 'saw', 'samantha', 'sack', 'rules', 'ruining', 'ruined', 'row', 'ripped', 'rip', 'rich', 'reversible', 'results', 'restrictions', 'restrict', 'responsibilities', 'respectful', 'research', 'republican', 'reproduce', 'repeat', 'removed', 'religions', 'refuses', 'refer', 'reevaluate', 'reduce', 'reasonable', 'reach', 'rational', 'rapists', 'rampant', 'racist', 'race', 'putting', 'punished', 'provider', 'proved', 'protestors', 'prophet', 'promoting', 'prolifer', 'programs', 'procreate', 'proabortionists', 'privilege', 'principles', 'pressure', 'presenter', 'prenatal', 'potentially', 'possibility', 'pleasure', 'pity', 'pills', 'piece', 'petty', 'perversions', 'perspective', 'permanently', 'perfectly', 'percent', 'pass', 'parties', 'parenting', 'paper', 'painless', 'overpopulation', 'outcome', 'ourselves', 'orphans', 'opposite', 'onto', 'occur', 'o', 'numbers', 'nowhere', 'noticed', 'nobodys', 'neighborhood', 'neglected', 'near', 'nature', 'narrative', 'murders', 'murderous', 'ms', 'move', 'mostly', 'morning', 'miracle', 'minority', 'minorities', 'mic', 'medically', 'measures', 'mars', 'married', 'main', 'lying', 'luck', 'low', 'lots', 'looks', 'looking', 'looked', 'liked', 'learning', 'lean', 'lazy', 'labor', 'kristen', 'known', 'knocked', 'kidney', 'kicked', 'kick', 'justification', 'judging', 'interview', 'intelligent', 'insanity', 'indeed', 'inconvenient', 'income', 'impossible', 'imposing', 'impact', 'immature', 'illness', 'illegally', 'ie', 'ideologies', 'hurting', 'hundreds', 'hours', 'hospital', 'horrific', 'honor', 'hits', 'hit', 'historical', 'highly', 'heterosexual', 'hers', 'helpless', 'hearts', 'heartless', 'harass', 'hangers', 'handled', 'guns', 'guaranteed', 'grieves', 'grade', 'goodness', 'godly', 'godless', 'goddamn', 'glorious', 'gestation', 'general', 'gay', 'garbage', 'fundamental', 'function', 'fun', 'foundation', 'forward', 'forth', 'fornication', 'foot', 'foetus', 'flesh', 'flawed', 'flat', 'fix', 'fire', 'finding', 'filling', 'fewer', 'feels', 'fed', 'factors', 'faces', 'extremes', 'exposed', 'explanation', 'existence', 'executed', 'excuses', 'eventually', 'events', 'event', 'eternal', 'essentially', 'equally', 'environment', 'entirely', 'ensure', 'emotion', 'efforts', 'ectopic', 'drunk', 'drugs', 'dr', 'dosent', 'dose', 'donor', 'division', 'dismiss', 'disgust', 'directly', 'devil', 'devastating', 'desperately', 'design', 'depression', 'dependent', 'denying', 'demons', 'demanding', 'delusional', 'dehumanizing', 'degree', 'defects', 'decline', 'decides', 'deceived', 'debatable', 'deaths', 'dealing', 'dare', 'd', 'cure', 'cult', 'creatures', 'count', 'couldve', 'convince', 'conversations', 'contraceptives', 'consented', 'conditions', 'complications', 'communities', 'cold', 'clumps', 'clue', 'close', 'claiming', 'civilized', 'civil', 'churches', 'choosing', 'childbirth', 'charged', 'changing', 'cellsfetus', 'celebrated', 'cbs', 'caterpillar', 'cares', 'broken', 'breed', 'breaks', 'brandon', 'brains', 'bound', 'book', 'blm', 'blind', 'biological', 'bills', 'bet', 'benefits', 'belly', 'believed', 'bed', 'beat', 'banned', 'bankrupt', 'avoid', 'automatically', 'attack', 'assistance', 'ass', 'arrested', 'anywhere', 'anyones', 'antiabortionist', 'answered', 'amount', 'ahead', 'agency', 'affordable', 'af', 'adults', 'adopting', 'addressing', 'addicts', 'acting', 'acknowledge', 'accident', 'abandoned', 'abandon', 'zipped', 'z', 'yr', 'youtube', 'yell', 'yalls', 'x', 'written', 'wrath', 'wrap', 'wondered', 'wives', 'winning', 'widows', 'whore', 'wholly', 'whoever', 'whatsoever', 'west', 'wellbeing', 'weird', 'weight', 'wed', 'weather', 'wear', 'wealth', 'weak', 'washington', 'wash', 'wars', 'walsh', 'walking', 'wage', 'voting', 'vomit', 'violent', 'victory', 'viability', 'vessel', 'vastly', 'vast', 'vasectomy', 'valuing', 'valued', 'vaccination', 'vaccinated', 'uses', 'upset', 'unprepared', 'unnatural', 'university', 'unique', 'union', 'unhinged', 'ungrateful', 'unfair', 'undo', 'understood', 'understanding', 'unconstitutional', 'ultrasound', 'twisted', 'twins', 'twice', 'turtle', 'troubles', 'tree', 'treat', 'toward', 'tough', 'touch', 'tools', 'toll', 'toes', 'throws', 'threatened', 'thou', 'third', 'therapy', 'terrorists', 'terminated', 'tells', 'tbh', 'taxpayers', 'symptom', 'sweet', 'swear', 'sustainable', 'survivors', 'surprisingly', 'surgical', 'surgery', 'suit', 'sue', 'suck', 'successful', 'success', 'substance', 'stuff', 'struggle', 'structure', 'strictly', 'strangers', 'stranger', 'strange', 'stopped', 'stood', 'stone', 'sterilize', 'sterilization', 'step', 'stealing', 'steal', 'stats', 'statements', 'starving', 'starvation', 'started', 'stable', 'spot', 'spoken', 'spent', 'spare', 'spade', 'sounds', 'sons', 'sold', 'socalled', 'smaller', 'slowly', 'slow', 'size', 'six', 'situational', 'sink', 'silver', 'signs', 'shoving', 'shouting', 'shouldve', 'shooting', 'shoot', 'shoes', 'shocking', 'shaming', 'shamed', 'serve', 'serial', 'seperate', 'sentence', 'sending', 'send', 'sell', 'selective', 'seemed', 'seed', 'scummy', 'screw', 'screen', 'scenario', 'scares', 'scared', 'sam', 'safest', 'safer', 'running', 'ruling', 'roles', 'rocks', 'rockie', 'rock', 'rob', 'ritual', 'risking', 'ripping', 'riddle', 'revert', 'reversed', 'respected', 'resort', 'requiring', 'reproduction', 'repercussions', 'repeal', 'reminder', 'remains', 'relive', 'relief', 'regrets', 'refuse', 'reducing', 'red', 'recreational', 'recommend', 'recognize', 'recently', 'raw', 'rarely', 'rapeincest', 'radical', 'racism', 'racial', 'rabid', 'quick', 'qualify', 'pushed', 'punishment', 'psychological', 'proves', 'protesters', 'props', 'proposed', 'propose', 'propaganda', 'prolong', 'progressive', 'proforced', 'prochoicers', 'processed', 'privileged', 'private', 'prison', 'previous', 'preventing', 'preventative', 'preventable', 'pretense', 'pretend', 'presented', 'premeditated', 'prefer', 'preborn', 'preach', 'practitioners', 'practicality', 'pph', 'posterity', 'possessed', 'positive', 'populated', 'popular', 'poorly', 'politics', 'politician', 'politically', 'police', 'polarized', 'playing', 'planning', 'pizza', 'pig', 'phone', 'perpetuate', 'permission', 'perhaps', 'pepperoni', 'payers', 'paul', 'pat', 'passing', 'passenger', 'partners', 'paid', 'oxygen', 'owe', 'overturning', 'override', 'overcome', 'overall', 'outrage', 'outlawing', 'outlaw', 'outdated', 'outcomes', 'ostracized', 'organism', 'organ', 'opt', 'oppression', 'opposed', 'opening', 'opened', 'omg', 'older', 'offering', 'offered', 'obtain', 'obsessed', 'obligation', 'object', 'oath', 'notion', 'note', 'nose', 'north', 'normalized', 'nonconsensual', 'nine', 'nigeria', 'neighbor', 'negative', 'needing', 'neck', 'necessarily', 'nazis', 'nation', 'narrow', 'mutualation', 'mouths', 'motive', 'moronic', 'monstrous', 'momentum', 'molested', 'mission', 'miss', 'misogynistic', 'misguided', 'mindset', 'mindless', 'military', 'met', 'mention', 'memories', 'meeting', 'meat', 'maternal', 'mastering', 'masses', 'masks', 'mask', 'marry', 'marchers', 'mankind', 'manipulation', 'males', 'm', 'lungs', 'lunacy', 'lump', 'lowest', 'location', 'lmfao', 'litteraly', 'listening', 'lines', 'likes', 'lied', 'liar', 'lgbtq', 'levels', 'legislate', 'legalised', 'leg', 'led', 'leaves', 'learned', 'leaning', 'lay', 'laugh', 'large', 'land', 'kingdom', 'keen', 'k', 'juvenile', 'justifying', 'justice', 'junk', 'judgment', 'judgement', 'jealous', 'ivf', 'itll', 'israel', 'irresponsibly', 'irresponsibility', 'irrespective', 'irrelevant', 'irony', 'ironically', 'ironic', 'iq', 'involve', 'intrinsic', 'interest', 'intentions', 'intensive', 'insurance', 'institutions', 'institution', 'instant', 'input', 'injected', 'initially', 'inhumane', 'inhuman', 'infringing', 'inflict', 'infinite', 'infants', 'industry', 'independent', 'indefinite', 'increased', 'includes', 'implications', 'imo', 'immorality', 'immigrants', 'immediately', 'idiotic', 'idiot', 'ideology', 'identify', 'hysterectomy', 'hysterectomies', 'hypocrite', 'husbands', 'husband', 'hungry', 'hung', 'households', 'hotdog', 'host', 'homicide', 'homelessness', 'homeless', 'helpful', 'hello', 'heinous', 'heck', 'heartbreaking', 'hearing', 'hates', 'haters', 'hardest', 'harder', 'harassing', 'happend', 'hanger', 'hair', 'haha', 'gymnastics', 'guilty', 'guide', 'gtfoh', 'gruesome', 'grows', 'grotesque', 'grieve', 'grass', 'granted', 'grace', 'gov', 'gotten', 'gospel', 'goal', 'global', 'glob', 'girlfriend', 'ginger', 'genz', 'genetic', 'generations', 'generally', 'gen', 'fyi', 'further', 'funds', 'funding', 'fundamentally', 'fund', 'functioning', 'functional', 'fulfilling', 'fruit', 'frontal', 'front', 'fresh', 'freely', 'freaks', 'freaking', 'frankies', 'fox', 'foul', 'fought', 'fornicating', 'forgot', 'forgetting', 'followers', 'flow', 'flop', 'flip', 'finish', 'fingers', 'finances', 'finance', 'figure', 'fights', 'fetal', 'ferrari', 'feminists', 'fell', 'fees', 'fate', 'false', 'fallopian', 'falling', 'fall', 'fake', 'failure', 'facilities', 'eye', 'extinguishing', 'exterminated', 'express', 'exposes', 'explained', 'experimental', 'experiences', 'experienced', 'expensive', 'expenses', 'expense', 'existing', 'existed', 'exercising', 'excited', 'evidence', 'essence', 'equation', 'entrance', 'enforce', 'enemy', 'enemies', 'encourage', 'emphasizing', 'embryos', 'embarrassment', 'eliminated', 'eliminate', 'elections', 'eh', 'ed', 'easiest', 'earlier', 'dumpsters', 'dumbass', 'driven', 'drawing', 'draw', 'downs', 'dove', 'doubt', 'doomed', 'dominated', 'dogs', 'doctrines', 'disturbing', 'distinct', 'disrespectful', 'disrespect', 'disguised', 'disgrace', 'disease', 'disagrees', 'disabled', 'direct', 'dilemma', 'difficulty', 'diagnosed', 'diabolical', 'devils', 'developmental', 'develop', 'determined', 'detention', 'despicable', 'desires', 'desire', 'describes', 'deprive', 'depraved', 'depend', 'denied', 'denial', 'demonically', 'demon', 'democrat', 'deliver', 'defund', 'deformities', 'defense', 'defective', 'defeat', 'deeds', 'deductible', 'decrease', 'deceased', 'decades', 'debt', 'dealt', 'daughters', 'darling', 'damaging', 'daddy', 'custody', 'crossing', 'crisis', 'criminal', 'cries', 'credentials', 'creating', 'creates', 'cowards', 'coverage', 'cover', 'countrys', 'corrupt', 'controversial', 'controls', 'controlled', 'contribute', 'continues', 'constantly', 'considering', 'consideration', 'connection', 'confused', 'condone', 'condition', 'concerning', 'comprehend', 'complicated', 'completed', 'complete', 'complaining', 'communists', 'comfortable', 'color', 'colleges', 'cognitive', 'cnn', 'clothing', 'clean', 'christine', 'christianity', 'chosing', 'chooser', 'chicken', 'charges', 'channel', 'centers', 'celibacy', 'causes', 'caused', 'cartels', 'carries', 'career', 'card', 'cancel', 'canal', 'butterfly', 'butchering', 'burnt', 'bull', 'btw', 'brother', 'brings', 'bringeth', 'breathe', 'breaking', 'bravo', 'brats', 'border', 'blue', 'blowing', 'blinders', 'blinded', 'bleeding', 'biggest', 'bigger', 'bias', 'belongs', 'believing', 'behalf', 'becoming', 'beauty', 'bastards', 'bastard', 'barely', 'banning', 'bailout', 'badly', 'bacteria', 'backwards', 'backstreet', 'baal', 'ayala', 'authority', 'australia', 'audience', 'attacking', 'atrocity', 'atrocious', 'ate', 'associated', 'assembly', 'assaulted', 'assault', 'arrogant', 'arms', 'area', 'appointed', 'apply', 'appear', 'anytime', 'antiabortionists', 'ant', 'annoying', 'alright', 'alot', 'almighty', 'aligned', 'align', 'alcohol', 'afterwards', 'afterlife', 'african', 'advance', 'addressed', 'addicted', 'accidents', 'accepting', 'abraham', 'above', 'zombies', 'zip', 'zigot', 'zebras', 'zealots', 'zealotry', 'yup', 'york', 'yong', 'yokel', 'yesterday', 'yelled', 'yeas', 'yearns', 'ye', 'yay', 'xx', 'wv', 'wt', 'writing', 'writhing', 'writers', 'write', 'wriggling', 'wrecked', 'wounds', 'woulve', 'worthy', 'worthwhile', 'worthless', 'worshipper', 'worried', 'worldview', 'worldliness', 'wondering', 'wonderfully', 'won', 'womanyoung', 'womanhood', 'wokies', 'wo', 'witnessed', 'wither', 'wisely', 'wise', 'wisdom', 'wipes', 'wipe', 'wins', 'wing', 'window', 'wife', 'widowers', 'widely', 'wich', 'wic', 'whove', 'whores', 'wholl', 'whinging', 'whiners', 'whims', 'weyrich', 'weve', 'wet', 'wellness', 'wellknown', 'weirdos', 'weighting', 'weeping', 'weeksmonths', 'wears', 'wearing', 'weapon', 'wealthy', 'wealthiest', 'wave', 'water', 'washing', 'wary', 'warranted', 'warped', 'warm', 'wanking', 'waking', 'wad', 'wackos', 'vr', 'voters', 'voter', 'volunteer', 'voiding', 'void', 'vocational', 'visit', 'visions', 'visceral', 'viruses', 'virtue', 'virtually', 'virginity', 'violation', 'violating', 'violates', 'viewpoint', 'vidio', 'victimhood', 'vicious', 'vibrators', 'via', 'vessels', 'verses', 'vascetomy', 'vapid', 'validation', 'vaccince', 'vacay', 'usually', 'useless', 'urs', 'urges', 'urgent', 'urge', 'upwards', 'upside', 'upsetting', 'unwaveringly', 'unwant', 'unviable', 'untrue', 'unto', 'untill', 'unsustainable', 'unstable', 'unsound', 'unserious', 'unrelated', 'unreasonable', 'unpleasant', 'unnesssry', 'unnecessary', 'unnecessarily', 'unmitigated', 'unmarried', 'unlowed', 'unlikely', 'unlicensed', 'unleash', 'unlawful', 'unknowns', 'unknown', 'unjustifiable', 'universities', 'units', 'uninformed', 'unideal', 'unexpectedly', 'undone', 'underprivileged', 'undergo', 'underage', 'uncontroversially', 'uncontrolled', 'unconditionally', 'uncomplicated', 'uncommon', 'uncomfortable', 'unbelievable', 'unbearable', 'unaware', 'unanswerable', 'ummm', 'umbilical', 'ultraliberal', 'ultimatelythey', 'uk', 'ugh', 'ucvwwxaiyddawzqfozvgw', 'uc', 'tyrants', 'tyranny', 'typically', 'typical', 'twinkle', 'tweark', 'twats', 'tv', 'turning', 'tu', 'trump', 'trouble', 'trivial', 'triumphs', 'triumph', 'triple', 'trillions', 'triggered', 'tries', 'tricked', 'treasured', 'traumatizing', 'traumatize', 'trashy', 'trap', 'transported', 'transparent', 'transformation', 'transcends', 'trampled', 'training', 'tragic', 'tragedy', 'tragedies', 'trafficking', 'trafficked', 'trading', 'toy', 'toxic', 'tout', 'touches', 'touched', 'total', 'tortured', 'torment', 'torch', 'tonight', 'ton', 'tom', 'tolerance', 'toilet', 'todo', 'toddler', 'todd', 'tlc', 'tissues', 'tissue', 'tiny', 'timing', 'timeless', 'til', 'tight', 'ticket', 'tht', 'thrust', 'thru', 'throwbacks', 'thrive', 'threats', 'threatening', 'thousand', 'thorns', 'thistles', 'thingy', 'theyd', 'theses', 'thes', 'thereabouts', 'theocratic', 'theocracy', 'thasn', 'thanking', 'tha', 'texans', 'testing', 'test', 'terrorist', 'terrified', 'terribly', 'terms', 'terminates', 'tering', 'tens', 'tends', 'tenant', 'ten', 'temporary', 'temple', 'teeth', 'tee', 'technology', 'tech', 'tearing', 'teaches', 'teachers', 'teacher', 'teachable', 'tb', 'taxpayer', 'taxes', 'tata', 'taste', 'tasks', 'targeted', 'target', 'tapeworms', 'tanks', 'tangled', 'tampered', 'tamper', 'talkin', 'taliban', 'talented', 'tale', 'taketh', 'takeover', 'takenforgranted', 'tagged', 'taboo', 'tablet', 'table', 'systems', 'synonyms', 'swiftly', 'sweden', 'swede', 'sustained', 'survivor', 'surviving', 'survives', 'survived', 'surprise', 'surpesion', 'surpassed', 'surgeries', 'surface', 'supporter', 'superior', 'summer', 'summary', 'sum', 'suits', 'suicidal', 'suggested', 'suggest', 'sugar', 'sufficiently', 'suffers', 'succeed', 'substantially', 'subsidize', 'subservient', 'subjective', 'stupidly', 'stumbled', 'study', 'struggling', 'strongly', 'stronger', 'strokes', 'stripping', 'strikes', 'strict', 'strength', 'streight', 'strategies', 'strangely', 'straightup', 'straightforward', 'storm', 'stork', 'storing', 'store', 'stoning', 'stock', 'stitch', 'stink', 'stfu', 'sterilized', 'stepped', 'stephanie', 'stem', 'steals', 'stds', 'staying', 'staunch', 'status', 'statistical', 'station', 'stating', 'stated', 'star', 'stands', 'standpoint', 'standards', 'stan', 'stalin', 'stairs', 'stain', 'staged', 'staffing', 'staff', 'stability', 'stab', 'squad', 'spun', 'spring', 'spreading', 'spouting', 'spout', 'sporting', 'spoon', 'spoke', 'spoiler', 'splitting', 'split', 'spite', 'spit', 'spiritually', 'spirits', 'spewing', 'spends', 'speciously', 'specifying', 'specifically', 'specific', 'species', 'specialists', 'speaks', 'spawns', 'spartans', 'spared', 'span', 'soy', 'sown', 'sovereignty', 'south', 'sources', 'source', 'sound', 'souly', 'soulless', 'sought', 'sotomayor', 'sorryful', 'sorrowful', 'sophomore', 'soothe', 'soooooo', 'sooooo', 'sooner', 'sonograms', 'sonogram', 'sonia', 'song', 'somewhere', 'somepoint', 'somehow', 'solves', 'solutions', 'solid', 'solely', 'sole', 'soft', 'sodom', 'sociopathy', 'sociopaths', 'societal', 'socially', 'socialist', 'sobs', 'snowflakes', 'snipped', 'snip', 'snap', 'smug', 'smoking', 'smoker', 'smiling', 'smell', 'smashed', 'smash', 'slipping', 'slipped', 'slimmest', 'slim', 'slightly', 'slew', 'slavers', 'slaugthering', 'slaughtered', 'slaughterb', 'slatterns', 'slap', 'slant', 'slack', 'sky', 'skulls', 'skipping', 'skin', 'skeptical', 'sized', 'sixth', 'sitting', 'sisters', 'sir', 'sinning', 'sinner', 'sinmurder', 'sinful', 'sincere', 'similarly', 'silly', 'silent', 'silence', 'signed', 'signaling', 'sight', 'sigh', 'sided', 'sid', 'sickness', 'sickens', 'siblings', 'sibling', 'shunned', 'shrugging', 'shown', 'showed', 'shove', 'shoulder', 'shortly', 'shoots', 'shock', 'shldnt', 'shld', 'shitting', 'shitbritches', 'shining', 'shelter', 'shell', 'shehe', 'sharia', 'shape', 'shampt', 'shameful', 'sham', 'shading', 'sfl', 'sever', 'seven', 'session', 'ses', 'serving', 'servicing', 'service', 'seriousness', 'septic', 'sepsis', 'separating', 'separately', 'sentiment', 'sentencing', 'sent', 'sensory', 'senate', 'sen', 'semester', 'semen', 'selfs', 'selfless', 'selfishness', 'selfishlydriven', 'selfindividualistic', 'selfimposed', 'selfdescribed', 'selfcentered', 'selection', 'seized', 'seismic', 'sees', 'seemingly', 'seeking', 'seeked', 'seebs', 'seducing', 'security', 'secure', 'section', 'secretly', 'secretary', 'secrecy', 'sea', 'scummery', 'scumbags', 'screams', 'scrappers', 'scramble', 'score', 'scope', 'scoffing', 'scissors', 'sciences', 'sciencebased', 'schumer', 'scenarios', 'scare', 'scandalised', 'scan', 'scam', 'scale', 'scaeffer', 'saythink', 'saviors', 'savior', 'savings', 'saves', 'savages', 'savage', 'saturday', 'satanists', 'satanism', 'sanitary', 'sane', 'sanders', 'sanctity', 'sanctified', 'san', 'sammy', 'samatha', 'salvation', 'salt', 'salad', 'saint', 'safely', 'sadness', 'sadistic', 'saddest', 'sacrificing', 'sacrificial', 'sacrifices', 'sacrificed', 'sacrafice', 'sac', 'ruthless', 'ruth', 'russia', 'rural', 'rule', 'rubs', 'rub', 'roundtheclock', 'roughly', 'rotted', 'roth', 'rose', 'rooting', 'roof', 'romney', 'rolls', 'rolling', 'role', 'rogue', 'roevwade', 'rocky', 'road', 'rite', 'risky', 'rise', 'rips', 'ripe', 'riot', 'rigorously', 'rigorous', 'rightly', 'rightfully', 'ridicule', 'richest', 'rhetoric', 'rewarded', 'revolving', 'revolves', 'revolting', 'reversiblefixable', 'revealed', 'reveal', 'retroactive', 'retort', 'retarded', 'resulting', 'rests', 'restricting', 'restricted', 'response', 'respond', 'respecting', 'respectfully', 'resourced', 'resolved', 'reside', 'reserved', 'reserve', 'resent', 'requires', 'requirements', 'requirement', 'reproduced', 'reprobates', 'represents', 'represent', 'reprehensible', 'reporter', 'repopulating', 'replacement', 'repenting', 'repeating', 'repeatedly', 'reparations', 'repair', 'rep', 'renounce', 'removes', 'remotely', 'reminded', 'remarkable', 'remaining', 'rely', 'relevant', 'relentlessly', 'relax', 'relationships', 'related', 'rejuvenation', 'rejoiced', 'rejects', 'rejected', 'reject', 'reinforced', 'reincarnation', 'reimagining', 'regulations', 'regular', 'regrethave', 'regreted', 'regressive', 'regard', 'refuted', 'refused', 'reflection', 'refers', 'reference', 'reductive', 'reduction', 'redecide', 'recruits', 'recreationally', 'recreation', 'records', 'record', 'reconcile', 'recklessness', 'reckless', 'recieving', 'receiving', 'rebranding', 'rebirth', 'rebellion', 'rebel', 'reasonings', 'reasoning', 'reasonably', 'rearranging', 'rearing', 'reap', 'realizing', 'realizes', 'realized', 'realization', 'realist', 'realise', 'reagan', 'reading', 'reaching', 'reaches', 'reached', 're', 'rave', 'raus', 'rats', 'rationalize', 'rationalise', 'rapture', 'rapist', 'rapidly', 'rapes', 'ranting', 'rant', 'ran', 'rally', 'rallied', 'raises', 'rails', 'radicals', 'racists', 'quit', 'quiet', 'quickly', 'questioning', 'quality', 'qualifying', 'qualified', 'quadrupled', 'quack', 'pushes', 'pursuit', 'purposes', 'purposeful', 'purley', 'purely', 'puppets', 'punish', 'punching', 'punch', 'pumps', 'pump', 'pull', 'puke', 'publicly', 'publicity', 'puberty', 'ptsd', 'psychopathic', 'psychopath', 'prowomen', 'proving', 'proveleges', 'provanessa', 'proudly', 'protruth', 'protheresa', 'protests', 'protects', 'prosusan', 'prostitution', 'prosperity', 'proslavery', 'proposition', 'prophesied', 'properly', 'propagated', 'propagate', 'prompt', 'promotes', 'promoted', 'promise', 'promelissa', 'prolonging', 'prolittle', 'prolindsay', 'projessica', 'prohibitive', 'prohibition', 'progresses', 'program', 'profit', 'professionals', 'professional', 'proemily', 'products', 'productive', 'produces', 'produce', 'procourtney', 'proclaiming', 'prochristina', 'prochoise', 'probrittany', 'problematic', 'probecky', 'proaborts', 'proabortionist', 'pristine', 'prisoners', 'prior', 'printing', 'principle', 'prime', 'pride', 'pricks', 'price', 'prevents', 'preventionprotection', 'prevented', 'prevailing', 'preterm', 'pretends', 'pretending', 'presiding', 'president', 'presents', 'present', 'presedure', 'preschool', 'pres', 'preparing', 'premiscous', 'pregnenant', 'pregnancydelivery', 'pregnanat', 'pregnacy', 'preggo', 'preformed', 'preferring', 'preferably', 'preemptive', 'predominantly', 'precisely', 'precise', 'pre', 'prayed', 'practitioner', 'practicing', 'postpartum', 'posters', 'posterboards', 'postbirth', 'postabortive', 'post', 'possibilities', 'possession', 'positions', 'posed', 'portion', 'popcorn', 'pollution', 'policies', 'polar', 'pokey', 'pokes', 'poke', 'poisons', 'poisonous', 'poison', 'poisen', 'podium', 'pocket', 'plz', 'plural', 'plethora', 'pleased', 'plead', 'plays', 'playin', 'played', 'platforms', 'platform', 'plants', 'planted', 'plant', 'planets', 'plague', 'placental', 'pist', 'pinkpurple', 'piles', 'pigs', 'picky', 'picking', 'picked', 'phrase', 'phones', 'philosophy', 'philosopher', 'phase', 'petition', 'perverse', 'perspectives', 'personhood', 'persistent', 'persecution', 'perpetrated', 'perfectionb', 'perfection', 'perceptions', 'penaltywhich', 'penalty', 'penalties', 'peer', 'pedos', 'ped', 'peacefully', 'pea', 'pcos', 'payer', 'patriots', 'patriarchy', 'patient', 'path', 'paternal', 'patently', 'passports', 'passport', 'passover', 'passion', 'passes', 'passage', 'partly', 'particularly', 'particular', 'participating', 'participated', 'participate', 'parrot', 'parentless', 'paradigm', 'papers', 'pamphlets', 'paired', 'page', 'oxymoron', 'owns', 'owning', 'ownership', 'owners', 'owner', 'owned', 'ovum', 'overtime', 'overlook', 'overhaul', 'overflowing', 'overdone', 'ovaries', 'outweigh', 'outrageous', 'outraged', 'outlook', 'outlawed', 'outcasting', 'outatheoven', 'ourselfes', 'ours', 'ought', 'ostracization', 'orphanage', 'orgasm', 'organizations', 'orders', 'ordeal', 'ordained', 'optionally', 'oppressed', 'oppress', 'opposition', 'opposing', 'opposes', 'opportunities', 'operational', 'operate', 'openminded', 'openly', 'oooohh', 'ol', 'oke', 'okdoable', 'ohio', 'ohh', 'officer', 'office', 'offense', 'offends', 'offended', 'odds', 'odd', 'occurs', 'obtuse', 'obstacle', 'observe', 'obnoxious', 'obliterated', 'obliged', 'objects', 'objective', 'obgyn', 'obese', 'nye', 'nutritional', 'nutrients', 'nut', 'nurture', 'nun', 'numerous', 'null', 'nuanced', 'nowadays', 'november', 'notice', 'nosy', 'noses', 'normally', 'normalize', 'normalise', 'norm', 'noone', 'nook', 'nontaxable', 'nonpeople', 'nonmedical', 'nonliving', 'nonlife', 'nonhuman', 'nonfatal', 'nonetheless', 'noise', 'nodding', 'noble', 'noah', 'nit', 'nightmare', 'niece', 'nicu', 'newly', 'neutered', 'nets', 'net', 'nervous', 'nerve', 'nephew', 'neo', 'neighbours', 'negate', 'needy', 'necessity', 'necessities', 'necessitates', 'nearly', 'nearest', 'nd', 'naziesque', 'navy', 'nasty', 'narratives', 'narrativeideology', 'naral', 'names', 'namely', 'named', 'nail', 'mythical', 'myriad', 'mutually', 'mutilation', 'mute', 'muslim', 'mum', 'multitude', 'multiply', 'multifaceted', 'multibillion', 'mud', 'moving', 'movie', 'moves', 'motivation', 'mothes', 'mothersparents', 'motherdad', 'motherchild', 'mos', 'morons', 'moron', 'moreover', 'morbid', 'moody', 'monuments', 'monster', 'monopoly', 'mommys', 'mommy', 'mommies', 'moloch', 'mold', 'modern', 'mockery', 'mnths', 'mmmm', 'mitigate', 'mistakes', 'missouri', 'missing', 'missed', 'misogyny', 'misnomer', 'misinterpreting', 'misinformation', 'misery', 'miserable', 'miseducation', 'miracles', 'minute', 'minors', 'minor', 'minions', 'minding', 'mimics', 'mills', 'milllions', 'milk', 'miles', 'mile', 'mieux', 'midst', 'mhmm', 'mexican', 'methods', 'methodists', 'method', 'merits', 'merit', 'merciful', 'mentionedb', 'mentioned', 'ment', 'menstrual', 'mens', 'menopausal', 'members', 'meiosis', 'medium', 'medicinal', 'medicalrapeincest', 'medicaid', 'medial', 'measure', 'meanwhile', 'meaningthe', 'meaningful', 'meals', 'maturity', 'matthew', 'math', 'maternity', 'material', 'match', 'masturbates', 'massage', 'mary', 'marxist', 'markers', 'mark', 'marionette', 'marginalization', 'mare', 'marching', 'marched', 'maranatha', 'mantra', 'manslaughter', 'manner', 'manipulator', 'manipulate', 'mandating', 'mandates', 'managed', 'mammal', 'mambypamby', 'malnourishment', 'makers', 'maintaining', 'maintained', 'mainstream', 'mainly', 'maga', 'machines', 'machine', 'macdonald', 'maam', 'ly', 'lust', 'lunches', 'lunatics', 'lucky', 'luckily', 'lube', 'lowliest', 'lowering', 'lovers', 'lovely', 'loudly', 'louder', 'lotta', 'losing', 'losers', 'loser', 'loosening', 'loon', 'lookin', 'lookappearance', 'longevity', 'lois', 'loins', 'locked', 'locations', 'local', 'litterally', 'literary', 'listne', 'listened', 'lining', 'lingering', 'limits', 'limiting', 'lightly', 'lighting', 'light', 'ligations', 'ligation', 'lifethreatening', 'lifestyles', 'lifespan', 'lifes', 'lifer', 'lifechanging', 'lifebirth', 'license', 'libs', 'lib', 'liable', 'lesson', 'lengths', 'legislations', 'legalized', 'legalization', 'legalising', 'lefts', 'lecture', 'leadership', 'leader', 'laying', 'lawmakers', 'lawmaker', 'laughter', 'laughs', 'lascivious', 'lane', 'landmark', 'landfill', 'lake', 'laid', 'ladys', 'lad', 'lacking', 'laboratories', 'labels', 'l', 'kristins', 'knuckles', 'knowledge', 'kneel', 'kitten', 'kinds', 'killings', 'kidneys', 'kidnapped', 'kidding', 'kicking', 'kerr', 'kernel', 'keeps', 'kat', 'justifications', 'jury', 'jumping', 'judicial', 'judges', 'judgements', 'joy', 'journey', 'jokes', 'joke', 'join', 'johnson', 'john', 'jmo', 'jipped', 'jimmy', 'jezebels', 'jesuss', 'jerry', 'jerks', 'jergens', 'jeopardy', 'jeezis', 'jeez', 'jawed', 'january', 'jacks', 'islamic', 'islam', 'isa', 'irreversible', 'irresponsibledont', 'iphone', 'involves', 'invisible', 'investment', 'invest', 'invade', 'intrusive', 'introduce', 'intractable', 'intimately', 'intimate', 'interviewed', 'international', 'internal', 'interference', 'interfere', 'interested', 'interactial', 'intense', 'intended', 'intellectual', 'integrity', 'insult', 'instance', 'installed', 'inspiring', 'insist', 'insignificant', 'insightful', 'insensitive', 'inocent', 'innocents', 'injustice', 'injury', 'inherent', 'ing', 'information', 'influx', 'influential', 'influences', 'influence', 'inflation', 'infested', 'infertile', 'infection', 'infected', 'infantry', 'individualfetusbaby', 'independently', 'incubators', 'incubator', 'incubation', 'incubate', 'incredible', 'increasingly', 'incorrect', 'inconviniances', 'inconvieance', 'inconveniences', 'inconvenienced', 'inconsequential', 'included', 'include', 'inches', 'incarcerated', 'inbreds', 'inbred', 'inbetween', 'inanimate', 'inadvertently', 'inaccurate', 'inability', 'impulsive', 'impulses', 'imprudence', 'imprisoned', 'impressive', 'impression', 'impressed', 'impregnated', 'imposed', 'impose', 'importantly', 'importance', 'imply', 'implied', 'implanted', 'impede', 'impartial', 'impacts', 'immortality', 'immortal', 'imminent', 'immigration', 'immense', 'immaterial', 'imho', 'imbecile', 'imaginary', 'illogical', 'illiberal', 'illegitimate', 'illegaly', 'illegalization', 'ilk', 'ignoring', 'ignored', 'ifs', 'idk', 'idiocracy', 'ideologues', 'ideological', 'identified', 'ideas', 'ideal', 'idc', 'hypocrits', 'husbandculture', 'hurts', 'hunger', 'humility', 'humane', 'humaine', 'howdya', 'household', 'hourbyhour', 'hot', 'hostage', 'hospitalized', 'horton', 'horror', 'horrified', 'horribly', 'horomones', 'hopes', 'hoped', 'hop', 'hook', 'hood', 'hons', 'honored', 'homicides', 'hombres', 'hobby', 'hm', 'hiw', 'hitler', 'hisher', 'hire', 'hippocratic', 'hinduism', 'hinders', 'himher', 'hilt', 'hilarious', 'highest', 'higher', 'hide', 'hidden', 'hi', 'hetrosexual', 'herring', 'heroin', 'heroes', 'hence', 'hemorrhaged', 'hellish', 'hellfire', 'heavenly', 'heartaches', 'hears', 'healthily', 'healthier', 'headsthrough', 'heads', 'haven', 'hav', 'haul', 'hatred', 'hateful', 'hassle', 'harshly', 'harsh', 'harpooned', 'harms', 'harming', 'harmed', 'hardship', 'hardly', 'harasses', 'happiness', 'happily', 'hanging', 'hangars', 'handsoff', 'handling', 'handing', 'handicapped', 'hallucinations', 'hall', 'halfway', 'hahahaha', 'hadnt', 'h', 'gutted', 'guts', 'gunnman', 'guessing', 'guarantees', 'growth', 'grouporganisation', 'groupfaction', 'groundwork', 'gross', 'grooming', 'grocery', 'grief', 'grew', 'greatly', 'greatest', 'gray', 'graphic', 'grapes', 'grandparents', 'grandmothers', 'grandmother', 'grandkids', 'grandfather', 'granddaughters', 'granddaughter', 'grand', 'graham', 'grabbing', 'grab', 'gqp', 'gp', 'governmental', 'governed', 'gotta', 'gothic', 'gosnell', 'gosh', 'goprolife', 'goooo', 'goodbye', 'goldfish', 'goingbto', 'gnashing', 'glorifying', 'glamorized', 'gladly', 'giveth', 'giver', 'gishgallop', 'girlfriends', 'ginsburg', 'gifts', 'ghosts', 'gf', 'george', 'genuine', 'gentle', 'genocidal', 'geniuss', 'genital', 'generationally', 'genders', 'geez', 'gd', 'gather', 'gas', 'gang', 'gammorah', 'galvanizizting', 'gained', 'g', 'furious', 'funerals', 'functions', 'functionally', 'fukers', 'fueled', 'fu', 'frustrated', 'frustrate', 'fruits', 'frightens', 'frightening', 'fridge', 'freeing', 'freedoms', 'freaky', 'freakin', 'fraud', 'frankly', 'frankie', 'francisco', 'francis', 'framing', 'fourth', 'four', 'forty', 'fortunate', 'forster', 'forsake', 'fornicate', 'formula', 'former', 'forgiven', 'forebrain', 'forcibly', 'forbidden', 'foolish', 'follows', 'following', 'followed', 'foal', 'fn', 'flynns', 'flying', 'fly', 'flushed', 'fluorescent', 'flowery', 'flower', 'flight', 'fleeting', 'flawless', 'flaunting', 'flames', 'fixed', 'five', 'fitting', 'firmly', 'finished', 'finger', 'finds', 'final', 'film', 'filled', 'figuring', 'figures', 'figs', 'fighter', 'fiercely', 'fictional', 'ffs', 'fetuss', 'fetishizes', 'fetched', 'fervous', 'fertilized', 'fertilize', 'fertility', 'fertilised', 'fence', 'females', 'fellowhuman', 'fella', 'feet', 'feeding', 'fearing', 'fcks', 'favour', 'faute', 'faustia', 'fathom', 'fatherhood', 'faster', 'fashion', 'fascist', 'farther', 'fantastic', 'fanatics', 'fanatical', 'familys', 'falls', 'fallen', 'fallacies', 'fairy', 'fairequal', 'fails', 'failedabortion', 'factually', 'factory', 'factories', 'factor', 'faction', 'facist', 'facing', 'facility', 'faced', 'fabulous', 'eyewitnesses', 'extremist', 'extraordinary', 'extraneous', 'extracted', 'extinction', 'extinct', 'extermination', 'exterminate', 'extend', 'expressed', 'explaining', 'experiential', 'experiencing', 'expedience', 'expectations', 'expanding', 'exotic', 'exorcise', 'existance', 'exercise', 'execution', 'execusioner', 'exclusive', 'excluding', 'excluded', 'exciting', 'excellent', 'exceedingly', 'examined', 'ex', 'evs', 'evolve', 'eve', 'evangelists', 'evangelicals', 'european', 'euphemisms', 'eucharist', 'ethics', 'eternity', 'establishment', 'establishes', 'establish', 'essential', 'espouse', 'esp', 'error', 'erected', 'era', 'equivalent', 'equated', 'equatable', 'equality', 'epitome', 'episode', 'enters', 'entered', 'ensures', 'enslaved', 'enrolling', 'enraged', 'enjoyment', 'enjoying', 'enjoyed', 'enjoy', 'engineers', 'engaging', 'engage', 'enforcing', 'enforced', 'energy', 'endure', 'endless', 'endangers', 'endangering', 'endanger', 'encouraging', 'encouraged', 'enacting', 'enacted', 'empower', 'employment', 'employee', 'employed', 'empire', 'empathize', 'emotions', 'emotionless', 'emerge', 'embryozygote', 'embryology', 'embrace', 'embodiment', 'embedded', 'eliminating', 'eliminates', 'elderly', 'eggs', 'effort', 'educational', 'edge', 'ecstatic', 'economy', 'economically', 'eats', 'easier', 'earthers', 'earning', 'earn', 'earliest', 'eagerly', 'eager', 'dysfunctional', 'dv', 'duty', 'dumped', 'dumbfounded', 'dumbest', 'dumbasses', 'duh', 'dude', 'ducky', 'ds', 'dry', 'druggie', 'drugged', 'drown', 'droves', 'drove', 'dropouts', 'driving', 'drivethru', 'drivers', 'drill', 'dried', 'dress', 'dreams', 'dreaming', 'dread', 'draws', 'drastically', 'dramatically', 'dramatic', 'draconian', 'downplay', 'douchebags', 'doubly', 'dosnt', 'doorstep', 'donation', 'donating', 'don', 'dolts', 'dollar', 'dogma', 'doenst', 'dodo', 'dodging', 'dodge', 'divide', 'diverse', 'disturbed', 'distress', 'distinction', 'disservice', 'disruptive', 'disqualify', 'dispute', 'dispose', 'disposable', 'displays', 'dispels', 'disown', 'disorder', 'disobedient', 'dismembered', 'dismal', 'dislikers', 'disingenuous', 'disgusts', 'disgustng', 'disgraceful', 'diseases', 'discussed', 'discretion', 'discovers', 'discovering', 'disconnected', 'discard', 'disappoint', 'disappear', 'disallows', 'disabilities', 'direspecful', 'direction', 'directed', 'dipshit', 'dilema', 'digusting', 'dignity', 'differs', 'differences', 'diety', 'dictators', 'diary', 'diaphragm', 'diagnose', 'dhe', 'devoid', 'devastation', 'devastated', 'devalues', 'detrimental', 'determine', 'determination', 'detail', 'destructive', 'destroys', 'destroyinglifethats', 'despotic', 'designed', 'deserved', 'desecration', 'described', 'describe', 'derangement', 'depriving', 'depressed', 'deposit', 'dependency', 'dependant', 'depart', 'dentist', 'denies', 'dems', 'demonstrations', 'demonrat', 'demonize', 'demonc', 'demographics', 'demented', 'demands', 'demacrats', 'delusions', 'deludes', 'deluded', 'delude', 'delivery', 'delivering', 'delivered', 'delinquency', 'deliberately', 'deliberate', 'dehumanized', 'dehumanize', 'degrades', 'degenerates', 'degenerate', 'degeneracy', 'deformed', 'definately', 'defenses', 'defenseless', 'defenders', 'defended', 'defenceless', 'defeats', 'defeatist', 'defeated', 'deeply', 'deemed', 'deem', 'deed', 'decsitions', 'decremental', 'deconstructing', 'declaring', 'deceiving', 'deceive', 'decay', 'decadence', 'debauchery', 'deathly', 'dear', 'deaf', 'de', 'dayton', 'dated', 'date', 'dastardly', 'dandy', 'dance', 'dan', 'damaged', 'dam', 'cycle', 'cyanide', 'cw', 'cutting', 'cursing', 'cursed', 'curse', 'currently', 'curb', 'cultural', 'cults', 'cues', 'crushes', 'crumble', 'cruelty', 'crows', 'crowds', 'crouch', 'crossed', 'crocodile', 'critters', 'criticize', 'criteria', 'cripples', 'criminalized', 'criminalization', 'creeps', 'creature', 'creative', 'creationism', 'craze', 'crappy', 'cranny', 'cracks', 'crack', 'cps', 'coward', 'cow', 'covid', 'covering', 'covenant', 'cousin', 'courtesy', 'courageous', 'couples', 'counts', 'countless', 'counting', 'counterargument', 'counselling', 'counseling', 'cost', 'cos', 'corrupted', 'correcting', 'corners', 'cornered', 'corner', 'core', 'cord', 'coped', 'cope', 'copay', 'cooking', 'cookie', 'convincing', 'convinced', 'convient', 'conveyed', 'contrary', 'contradictory', 'contradicted', 'contradict', 'contraceptions', 'contious', 'continuous', 'continously', 'contest', 'contention', 'contend', 'contagious', 'consuming', 'constitutionally', 'constitutional', 'consolidate', 'consistent', 'consiquinces', 'considdered', 'considder', 'consenually', 'consents', 'conquered', 'connections', 'connected', 'congress', 'congrats', 'confusion', 'confusing', 'conflicted', 'conflict', 'confirmation', 'confidentiality', 'confident', 'confer', 'confederacy', 'conducive', 'condoning', 'condoned', 'condomsbirth', 'condolences', 'condescension', 'condescending', 'condemns', 'condemning', 'condemnation', 'concrete', 'concious', 'concerned', 'concepts', 'conceptions', 'conceiving', 'concede', 'compromises', 'comprehensive', 'components', 'complicit', 'complexity', 'complex', 'compelling', 'compassionhumanity', 'compassionate', 'compared', 'compare', 'comparative', 'communist', 'commons', 'committed', 'commits', 'commited', 'commented', 'commend', 'commands', 'commandment', 'comical', 'comic', 'comfy', 'comfort', 'comedian', 'comatose', 'colors', 'colored', 'collegeuniversity', 'colleague', 'collateral', 'collapse', 'collage', 'coldly', 'coincidence', 'coin', 'coil', 'coffee', 'coercion', 'cocky', 'cluster', 'clowns', 'closure', 'closet', 'closest', 'closer', 'closeminded', 'clip', 'climate', 'cliff', 'cletus', 'clergy', 'classroom', 'classes', 'claims', 'cking', 'cked', 'ck', 'civilization', 'city', 'circumsrances', 'cinsent', 'cigarettes', 'chubby', 'chronically', 'christlike', 'chris', 'chore', 'chooses', 'choke', 'china', 'chime', 'childslave', 'childrens', 'childishly', 'childhood', 'childcare', 'chicks', 'chick', 'chewbacca', 'cherishes', 'chemical', 'cheeseburgers', 'checked', 'cheating', 'chanting', 'channels', 'chanced', 'challenging', 'challenged', 'cerebrum', 'centurys', 'centuries', 'cents', 'celebration', 'celebrating', 'cease', 'ccondoms', 'causing', 'cathy', 'categorizing', 'catch', 'casualties', 'castrated', 'cash', 'carlin', 'carelessness', 'carelessly', 'careful', 'careerdreams', 'capability', 'cap', 'caoilfhionn', 'cans', 'cannibalism', 'cancermouth', 'cancelled', 'campuss', 'campuses', 'camps', 'campaigning', 'camest', 'camera', 'calmness', 'calls', 'calles', 'california', 'cali', 'buzzards', 'buying', 'butchery', 'butchers', 'busy', 'businesses', 'buses', 'bus', 'burst', 'burner', 'burned', 'burn', 'burdensome', 'bundle', 'bully', 'bullied', 'bullet', 'bulimia', 'buisness', 'buildings', 'building', 'build', 'budget', 'buckle', 'bspecifically', 'bsh', 'brutal', 'bruh', 'brown', 'brothers', 'broke', 'bro', 'british', 'brilliant', 'bright', 'breyer', 'bred', 'breathers', 'breathed', 'breast', 'bread', 'brat', 'brainwashing', 'brainless', 'boys', 'boyfriends', 'boyfriendhusband', 'boyfriend', 'boundless', 'bothers', 'bother', 'borderline', 'boot', 'boom', 'bone', 'bond', 'bombs', 'bolster', 'bold', 'bodyincubator', 'boastful', 'boarder', 'board', 'bnotb', 'bmurdering', 'blunt', 'blow', 'bloody', 'bloodthirsty', 'bloodshed', 'blooded', 'blond', 'block', 'blight', 'blessed', 'bleach', 'blatantly', 'blasphemy', 'blanket', 'blank', 'blaming', 'bjs', 'bitter', 'bits', 'bit', 'birthing', 'birthers', 'birthed', 'birthdiffect', 'birthdays', 'birthday', 'birthcontrol', 'bipartisan', 'biologically', 'binge', 'billion', 'bigots', 'bigot', 'biden', 'biased', 'betrayal', 'besides', 'beside', 'bernie', 'bent', 'beneficial', 'below', 'bellys', 'belifs', 'belifes', 'behaviour', 'behaviors', 'behaving', 'begets', 'began', 'beg', 'beaten', 'beast', 'bearing', 'beacon', 'bclaimb', 'battle', 'battery', 'bathe', 'basters', 'basis', 'basics', 'bash', 'bars', 'barn', 'bare', 'baptists', 'bans', 'bandwagon', 'ballb', 'balancing', 'bait', 'bailed', 'bail', 'bags', 'baggage', 'badge', 'bader', 'backyard', 'backwoods', 'backward', 'backup', 'backs', 'backroom', 'backed', 'babysitting', 'babylonian', 'babyinfant', 'babble', 'aztec', 'awareness', 'awakening', 'avoided', 'average', 'availability', 'availabile', 'autism', 'authoritarian', 'author', 'aunts', 'attn', 'attitudes', 'attitude', 'attempted', 'attacks', 'attackedmurdered', 'attacked', 'atrocities', 'atleast', 'atheists', 'atheism', 'astounds', 'astonishing', 'assumes', 'assume', 'assistant', 'assigned', 'assign', 'assholes', 'asses', 'asserting', 'assaulter', 'assassinate', 'assailant', 'aspirations', 'aspects', 'aside', 'asian', 'asher', 'asf', 'ascension', 'articulates', 'article', 'arse', 'arrogance', 'arresting', 'arm', 'argues', 'arguer', 'architects', 'archaic', 'arbritary', 'apt', 'april', 'approve', 'approval', 'appropriately', 'appropriate', 'appointment', 'applying', 'apples', 'applause', 'applauding', 'applaud', 'appeared', 'appearance', 'appeals', 'appeal', 'appalled', 'apologizing', 'apollo', 'anybody', 'antiwomen', 'antiscience', 'antipeace', 'antinatalist', 'antigod', 'antifamily', 'antifa', 'antieverything', 'anticonceptives', 'antichoicers', 'antibullying', 'antibaby', 'antiabortionprolife', 'ans', 'anointed', 'annswer', 'annoyed', 'annihilation', 'anguish', 'angrily', 'angles', 'angle', 'anencephaly', 'ancient', 'anatomy', 'amy', 'among', 'americas', 'amendment', 'amazingly', 'amazes', 'amazed', 'aman', 'alters', 'altered', 'alter', 'altar', 'alt', 'alleyways', 'allah', 'alittle', 'aliens', 'alcoholicism', 'akin', 'aka', 'air', 'aint', 'aiding', 'aides', 'aid', 'ahhh', 'ah', 'agreements', 'agreed', 'agony', 'aggressively', 'agencies', 'aftermath', 'afterbirth', 'africa', 'afforded', 'affection', 'affected', 'affairs', 'affair', 'afab', 'advocacy', 'advice', 'advantage', 'adoptions', 'adolescent', 'admitted', 'adhered', 'adhere', 'address', 'additionally', 'addition', 'adding', 'addict', 'added', 'adam', 'actionchoice', 'achieve', 'achievable', 'acdental', 'accurately', 'accounts', 'accounted', 'account', 'accordingly', 'accomplice', 'accompanies', 'accidentally', 'accidental', 'accepted', 'acceptance', 'aby', 'abusing', 'abuses', 'abuser', 'abuseneglectdiscrimination', 'abundantly', 'abundant', 'abt', 'absurd', 'abruption', 'aborts', 'abortionsmurder', 'abortiom', 'aboritions', 'abomination', 'abolitionists', 'abolitionist', 'abolition', 'abolished', 'abolish', 'abide', 'abhorrent', 'abbots', 'abandonment', 'abandoning']\n"
          ]
        }
      ]
    },
    {
      "cell_type": "code",
      "source": [
        "train_ds = raw_train_ds.map(vectorize_text)\n",
        "val_ds = raw_val_ds.map(vectorize_text)\n",
        "test_ds = raw_test_ds.map(vectorize_text)"
      ],
      "metadata": {
        "id": "Df9TjrhqZu-J"
      },
      "execution_count": null,
      "outputs": []
    },
    {
      "cell_type": "markdown",
      "source": [
        "# Configure the dataset for performance\n",
        "These are two important methods you should use when loading data to make sure that I/O does not become blocking.\n",
        "\n",
        ".cache() keeps data in memory after it's loaded off disk. This will ensure the dataset does not become a bottleneck while training your model. If your dataset is too large to fit into memory, you can also use this method to create a performant on-disk cache, which is more efficient to read than many small files.\n",
        "\n",
        ".prefetch() overlaps data preprocessing and model execution while training.\n",
        "\n",
        "You can learn more about both methods, as well as how to cache data to disk in the data performance guide."
      ],
      "metadata": {
        "id": "_90SY4re-aM8"
      }
    },
    {
      "cell_type": "code",
      "source": [
        "AUTOTUNE = tf.data.AUTOTUNE\n",
        "\n",
        "train_ds = train_ds.cache().prefetch(buffer_size=AUTOTUNE)\n",
        "val_ds = val_ds.cache().prefetch(buffer_size=AUTOTUNE)\n",
        "test_ds = test_ds.cache().prefetch(buffer_size=AUTOTUNE)\n"
      ],
      "metadata": {
        "id": "_DUeEBMjZwOR"
      },
      "execution_count": null,
      "outputs": []
    },
    {
      "cell_type": "markdown",
      "source": [
        "# Create the model\n",
        "It's time to create your neural network:"
      ],
      "metadata": {
        "id": "byNkHYMU-gzJ"
      }
    },
    {
      "cell_type": "code",
      "source": [
        "VOCAB_SIZE = len(vectorize_layer.get_vocabulary())\n",
        "model = tf.keras.Sequential([\n",
        "                             tf.keras.layers.Embedding(VOCAB_SIZE, 32),\n",
        "                             tf.keras.layers.Bidirectional(tf.keras.layers.LSTM(32)),#, return_sequences=True)),\n",
        "                             #tf.keras.layers.Bidirectional(tf.keras.layers.LSTM(16)),\n",
        "                             tf.keras.layers.Dense(128, activation='relu'),\n",
        "                             #tf.keras.layers.Dropout(0.2),\n",
        "                             tf.keras.layers.Dense(64, activation='relu'),\n",
        "                             #tf.keras.layers.Dropout(0.2),\n",
        "                             tf.keras.layers.Dense(32, activation='relu'),\n",
        "                            # tf.keras.layers.Dropout(0.2),\n",
        "                             tf.keras.layers.Dense(3)\n",
        "])"
      ],
      "metadata": {
        "id": "-jNTUA0U_fA8"
      },
      "execution_count": null,
      "outputs": []
    },
    {
      "cell_type": "markdown",
      "source": [
        ""
      ],
      "metadata": {
        "id": "tKM76HYICaVv"
      }
    },
    {
      "cell_type": "code",
      "source": [
        "model.summary()"
      ],
      "metadata": {
        "colab": {
          "base_uri": "https://localhost:8080/"
        },
        "id": "jC-dirj7BA2L",
        "outputId": "b52f07b5-e29d-44b9-85fb-8d72b3740fdd"
      },
      "execution_count": null,
      "outputs": [
        {
          "output_type": "stream",
          "name": "stdout",
          "text": [
            "Model: \"sequential_15\"\n",
            "_________________________________________________________________\n",
            " Layer (type)                Output Shape              Param #   \n",
            "=================================================================\n",
            " embedding_13 (Embedding)    (None, None, 32)          169216    \n",
            "                                                                 \n",
            " bidirectional_17 (Bidirecti  (None, 64)               16640     \n",
            " onal)                                                           \n",
            "                                                                 \n",
            " dense_35 (Dense)            (None, 128)               8320      \n",
            "                                                                 \n",
            " dense_36 (Dense)            (None, 64)                8256      \n",
            "                                                                 \n",
            " dense_37 (Dense)            (None, 32)                2080      \n",
            "                                                                 \n",
            " dense_38 (Dense)            (None, 3)                 99        \n",
            "                                                                 \n",
            "=================================================================\n",
            "Total params: 204,611\n",
            "Trainable params: 204,611\n",
            "Non-trainable params: 0\n",
            "_________________________________________________________________\n"
          ]
        }
      ]
    },
    {
      "cell_type": "code",
      "source": [
        "# embedding_dim = 16\n",
        "\n",
        "# model = tf.keras.Sequential([\n",
        "#                              layers.Embedding(len(vectorize_layer.get_vocabulary()), embedding_dim),\n",
        "#                              layers.Dense(256),\n",
        "#                              layers.Dense(128),\n",
        "#                              layers.Dense(32),\n",
        "#                              layers.Dropout(0.2),\n",
        "#                              layers.GlobalAveragePooling1D(),\n",
        "#                              layers.Dropout(0.2),\n",
        "#                              layers.Dense(3)])\n",
        "# model.summary()"
      ],
      "metadata": {
        "id": "4mk0D_GyZzU7"
      },
      "execution_count": null,
      "outputs": []
    },
    {
      "cell_type": "markdown",
      "source": [
        "The layers are stacked sequentially to build the classifier:\n",
        "\n",
        "\n",
        "1.   The first layer is an Embedding layer. \n",
        "This layer takes the integer-encoded reviews and looks up an embedding vector for each word-index. These vectors are learned as the model trains. The vectors add a dimension to the output array. The resulting dimensions are: (batch, sequence, embedding). To learn more about embeddings, check out the Word embeddings tutorial. \n",
        "2.   Next, a GlobalAveragePooling1D layer returns a fixed-length output vector for each example by averaging over the sequence dimension. This allows the model to handle input of variable length, in the simplest way possible.\n",
        "3.   This fixed-length output vector is piped through a fully-connected (Dense) layer with 16 hidden units.\n",
        "4.   The last layer is densely connected with a single output node.\n",
        "\n"
      ],
      "metadata": {
        "id": "ji6maJTn-m06"
      }
    },
    {
      "cell_type": "markdown",
      "source": [
        "# Loss function and optimizer\n",
        "A model needs a loss function and an optimizer for training. Since this is a binary classification problem and the model outputs a probability (a single-unit layer with a sigmoid activation), you'll use losses.BinaryCrossentropy loss function.\n",
        "\n",
        "Now, configure the model to use an optimizer and a loss function:\n",
        "\n",
        "\n"
      ],
      "metadata": {
        "id": "UqgmoNxp_RL8"
      }
    },
    {
      "cell_type": "code",
      "source": [
        "model.compile(loss=tf.keras.losses.SparseCategoricalCrossentropy(from_logits=True),\n",
        "              optimizer='adam',\n",
        "              metrics=['accuracy'])"
      ],
      "metadata": {
        "id": "Q2VQkgmuZ1S9"
      },
      "execution_count": null,
      "outputs": []
    },
    {
      "cell_type": "markdown",
      "source": [
        "# Train the model\n",
        "You will train the model by passing the dataset object to the fit method."
      ],
      "metadata": {
        "id": "RNEraSnV_eYb"
      }
    },
    {
      "cell_type": "code",
      "source": [
        "epochs = 4\n",
        "history = model.fit(\n",
        "    train_ds,\n",
        "    validation_data=val_ds,\n",
        "    epochs=epochs\n",
        ")"
      ],
      "metadata": {
        "colab": {
          "base_uri": "https://localhost:8080/"
        },
        "id": "EnqrgDh8Z2yF",
        "outputId": "5419c721-bfe9-4d06-a2a4-8694619cdb45"
      },
      "execution_count": null,
      "outputs": [
        {
          "output_type": "stream",
          "name": "stdout",
          "text": [
            "Epoch 1/4\n",
            "49/49 [==============================] - 14s 207ms/step - loss: 0.9842 - accuracy: 0.5420 - val_loss: 0.9336 - val_accuracy: 0.5052\n",
            "Epoch 2/4\n",
            "49/49 [==============================] - 9s 187ms/step - loss: 0.8610 - accuracy: 0.5621 - val_loss: 0.8713 - val_accuracy: 0.5677\n",
            "Epoch 3/4\n",
            "49/49 [==============================] - 9s 189ms/step - loss: 0.6608 - accuracy: 0.7105 - val_loss: 0.7292 - val_accuracy: 0.6927\n",
            "Epoch 4/4\n",
            "49/49 [==============================] - 9s 185ms/step - loss: 0.4068 - accuracy: 0.8295 - val_loss: 0.7659 - val_accuracy: 0.7161\n"
          ]
        }
      ]
    },
    {
      "cell_type": "markdown",
      "source": [
        "# Evaluate the model\n",
        "Let's see how the model performs. Two values will be returned. Loss (a number which represents our error, lower values are better), and accuracy."
      ],
      "metadata": {
        "id": "MquU6OeE_oE1"
      }
    },
    {
      "cell_type": "code",
      "source": [
        "loss, accuracy = model.evaluate(test_ds)\n",
        "print(\"Loss: \", loss)\n",
        "print(\"Accuracy: \", accuracy)"
      ],
      "metadata": {
        "colab": {
          "base_uri": "https://localhost:8080/"
        },
        "id": "h0cE_nfrZ4NZ",
        "outputId": "9ad9a8fd-bc2b-43b8-e598-788f7f96092f"
      },
      "execution_count": null,
      "outputs": [
        {
          "output_type": "stream",
          "name": "stdout",
          "text": [
            "16/16 [==============================] - 1s 43ms/step - loss: 0.7928 - accuracy: 0.7297\n",
            "Loss:  0.7928338646888733\n",
            "Accuracy:  0.7297297120094299\n"
          ]
        }
      ]
    },
    {
      "cell_type": "markdown",
      "source": [
        "# Create a plot of accuracy and loss over time\n",
        "model.fit() returns a History object that contains a dictionary with everything that happened during training:"
      ],
      "metadata": {
        "id": "g_XOHV7f_uBF"
      }
    },
    {
      "cell_type": "code",
      "source": [
        "history_dict = history.history\n",
        "history_dict.keys()"
      ],
      "metadata": {
        "colab": {
          "base_uri": "https://localhost:8080/"
        },
        "id": "yfj31kJ8Z5rL",
        "outputId": "02d2fd20-1322-43ca-b5d9-fd27fe28ec9f"
      },
      "execution_count": null,
      "outputs": [
        {
          "output_type": "execute_result",
          "data": {
            "text/plain": [
              "dict_keys(['loss', 'accuracy', 'val_loss', 'val_accuracy'])"
            ]
          },
          "metadata": {},
          "execution_count": 125
        }
      ]
    },
    {
      "cell_type": "markdown",
      "source": [
        "There are four entries: one for each monitored metric during training and validation. You can use these to plot the training and validation loss for comparison, as well as the training and validation accuracy:"
      ],
      "metadata": {
        "id": "SJCFtCas_1-M"
      }
    },
    {
      "cell_type": "code",
      "source": [
        "acc = history_dict['accuracy']\n",
        "val_acc = history_dict['val_accuracy']\n",
        "loss = history_dict['loss']\n",
        "val_loss = history_dict['val_loss']\n",
        "\n",
        "epochs = range(1, len(acc) + 1)\n",
        "\n",
        "# 'bo' is for 'blue dot'\n",
        "plt.plot(epochs, loss, 'bo', label=\"Training loss\")\n",
        "# b is for 'solid blue line'\n",
        "plt.plot(epochs, val_loss, 'b', label='Validation loss')\n",
        "plt.title('Training and validation loss')\n",
        "plt.xlabel('Epochs')\n",
        "plt.ylabel('Loss')\n",
        "plt.legend()\n",
        "\n",
        "plt.show()"
      ],
      "metadata": {
        "colab": {
          "base_uri": "https://localhost:8080/",
          "height": 295
        },
        "id": "3QPeWD5_Z7dn",
        "outputId": "6de102ca-e967-4b53-adfa-7be7a3b71ded"
      },
      "execution_count": null,
      "outputs": [
        {
          "output_type": "display_data",
          "data": {
            "text/plain": [
              "<Figure size 432x288 with 1 Axes>"
            ],
            "image/png": "[encoded data removed]"
          },
          "metadata": {
            "needs_background": "light"
          }
        }
      ]
    },
    {
      "cell_type": "code",
      "source": [
        "plt.plot(epochs, acc, 'bo', label='Training acc')\n",
        "plt.plot(epochs, val_acc, 'b', label='Validation acc')\n",
        "plt.title('Training and validation accuracy')\n",
        "plt.xlabel('Epochs')\n",
        "plt.ylabel('Accuracy')\n",
        "plt.legend(loc='lower right')\n",
        "\n",
        "plt.show()"
      ],
      "metadata": {
        "colab": {
          "base_uri": "https://localhost:8080/",
          "height": 295
        },
        "id": "vuAlnp34Z9Qq",
        "outputId": "48a93b0b-e696-47dc-8a1b-be3cd82e4cea"
      },
      "execution_count": null,
      "outputs": [
        {
          "output_type": "display_data",
          "data": {
            "text/plain": [
              "<Figure size 432x288 with 1 Axes>"
            ],
            "image/png": "[encoded data removed]"
          },
          "metadata": {
            "needs_background": "light"
          }
        }
      ]
    },
    {
      "cell_type": "markdown",
      "source": [
        "In this plot, the dots represent the training loss and accuracy, and the solid lines are the validation loss and accuracy.\n",
        "\n",
        "Notice the training loss decreases with each epoch and the training accuracy increases with each epoch. This is expected when using a gradient descent optimization—it should minimize the desired quantity on every iteration.\n",
        "\n",
        "This isn't the case for the validation loss and accuracy—they seem to peak before the training accuracy. This is an example of overfitting: the model performs better on the training data than it does on data it has never seen before. After this point, the model over-optimizes and learns representations specific to the training data that do not generalize to test data.\n",
        "\n",
        "For this particular case, you could prevent overfitting by simply stopping the training when the validation accuracy is no longer increasing. One way to do so is to use the tf.keras.callbacks.EarlyStopping callback.\n"
      ],
      "metadata": {
        "id": "635eCxT4_6Kb"
      }
    },
    {
      "cell_type": "markdown",
      "source": [
        "# Export the model\n",
        "In the code above, you applied the TextVectorization layer to the dataset before feeding text to the model. If you want to make your model capable of processing raw strings (for example, to simplify deploying it), you can include the TextVectorization layer inside your model. To do so, you can create a new model using the weights you just trained."
      ],
      "metadata": {
        "id": "8__ccsJn_-y6"
      }
    },
    {
      "cell_type": "code",
      "source": [
        "export_model = tf.keras.Sequential([\n",
        "  vectorize_layer,\n",
        "  model,\n",
        "  layers.Activation('sigmoid')\n",
        "])\n",
        "\n",
        "export_model.compile(\n",
        "    loss=tf.keras.losses.SparseCategoricalCrossentropy(from_logits=False), optimizer=\"adam\", metrics=['accuracy']\n",
        ")\n",
        "\n",
        "# Test it with `raw_test_ds`, which yields raw strings\n",
        "loss, accuracy = export_model.evaluate(raw_test_ds)\n",
        "print(accuracy)"
      ],
      "metadata": {
        "colab": {
          "base_uri": "https://localhost:8080/"
        },
        "id": "XEOqYpGmZ_KS",
        "outputId": "7699cdf1-ad5c-4d34-9ff7-6d26712a2819"
      },
      "execution_count": null,
      "outputs": [
        {
          "output_type": "stream",
          "name": "stdout",
          "text": [
            "16/16 [==============================] - 6s 106ms/step - loss: 1.1976 - accuracy: 0.7401\n",
            "0.7401247620582581\n"
          ]
        }
      ]
    },
    {
      "cell_type": "markdown",
      "source": [
        "Including the text preprocessing logic inside your model enables you to export a model for production that simplifies deployment, and reduces the potential for [train/test skew](https://developers.google.com/machine-learning/guides/rules-of-ml#training-serving_skew).\n",
        "\n",
        "There is a performance difference to keep in mind when choosing where to apply your TextVectorization layer. Using it outside of your model enables you to do asynchronous CPU processing and buffering of your data when training on GPU. So, if you're training your model on the GPU, you probably want to go with this option to get the best performance while developing your model, then switch to including the TextVectorization layer inside your model when you're ready to prepare for deployment.\n",
        "\n",
        "Visit this [tutorial](https://www.tensorflow.org/tutorials/keras/save_and_load) to learn more about saving models.\n"
      ],
      "metadata": {
        "id": "963BCwEnAIgH"
      }
    },
    {
      "cell_type": "code",
      "source": [
        "#shutil.rmtree('./AbortionData')"
      ],
      "metadata": {
        "id": "mDRKNyboaBLj"
      },
      "execution_count": null,
      "outputs": []
    }
  ]
}